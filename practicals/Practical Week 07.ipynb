{
 "cells": [
  {
   "cell_type": "code",
   "execution_count": 10,
   "metadata": {},
   "outputs": [
    {
     "name": "stdout",
     "output_type": "stream",
     "text": [
      "Requirement already satisfied: spacy in c:\\users\\k\\appdata\\local\\packages\\pythonsoftwarefoundation.python.3.9_qbz5n2kfra8p0\\localcache\\local-packages\\python39\\site-packages (3.2.4)\n",
      "Requirement already satisfied: srsly<3.0.0,>=2.4.1 in c:\\users\\k\\appdata\\local\\packages\\pythonsoftwarefoundation.python.3.9_qbz5n2kfra8p0\\localcache\\local-packages\\python39\\site-packages (from spacy) (2.4.2)\n",
      "Requirement already satisfied: typer<0.5.0,>=0.3.0 in c:\\users\\k\\appdata\\local\\packages\\pythonsoftwarefoundation.python.3.9_qbz5n2kfra8p0\\localcache\\local-packages\\python39\\site-packages (from spacy) (0.4.1)\n",
      "Requirement already satisfied: setuptools in c:\\program files\\windowsapps\\pythonsoftwarefoundation.python.3.9_3.9.3312.0_x64__qbz5n2kfra8p0\\lib\\site-packages (from spacy) (58.1.0)\n",
      "Requirement already satisfied: preshed<3.1.0,>=3.0.2 in c:\\users\\k\\appdata\\local\\packages\\pythonsoftwarefoundation.python.3.9_qbz5n2kfra8p0\\localcache\\local-packages\\python39\\site-packages (from spacy) (3.0.6)\n",
      "Requirement already satisfied: langcodes<4.0.0,>=3.2.0 in c:\\users\\k\\appdata\\local\\packages\\pythonsoftwarefoundation.python.3.9_qbz5n2kfra8p0\\localcache\\local-packages\\python39\\site-packages (from spacy) (3.3.0)\n",
      "Requirement already satisfied: numpy>=1.15.0 in c:\\users\\k\\appdata\\local\\packages\\pythonsoftwarefoundation.python.3.9_qbz5n2kfra8p0\\localcache\\local-packages\\python39\\site-packages (from spacy) (1.22.2)\n",
      "Requirement already satisfied: click<8.1.0 in c:\\users\\k\\appdata\\local\\packages\\pythonsoftwarefoundation.python.3.9_qbz5n2kfra8p0\\localcache\\local-packages\\python39\\site-packages (from spacy) (8.0.4)\n",
      "Requirement already satisfied: blis<0.8.0,>=0.4.0 in c:\\users\\k\\appdata\\local\\packages\\pythonsoftwarefoundation.python.3.9_qbz5n2kfra8p0\\localcache\\local-packages\\python39\\site-packages (from spacy) (0.7.7)\n",
      "Requirement already satisfied: requests<3.0.0,>=2.13.0 in c:\\users\\k\\appdata\\local\\packages\\pythonsoftwarefoundation.python.3.9_qbz5n2kfra8p0\\localcache\\local-packages\\python39\\site-packages (from spacy) (2.27.1)\n",
      "Requirement already satisfied: catalogue<2.1.0,>=2.0.6 in c:\\users\\k\\appdata\\local\\packages\\pythonsoftwarefoundation.python.3.9_qbz5n2kfra8p0\\localcache\\local-packages\\python39\\site-packages (from spacy) (2.0.7)\n",
      "Requirement already satisfied: pathy>=0.3.5 in c:\\users\\k\\appdata\\local\\packages\\pythonsoftwarefoundation.python.3.9_qbz5n2kfra8p0\\localcache\\local-packages\\python39\\site-packages (from spacy) (0.6.1)\n",
      "Requirement already satisfied: tqdm<5.0.0,>=4.38.0 in c:\\users\\k\\appdata\\local\\packages\\pythonsoftwarefoundation.python.3.9_qbz5n2kfra8p0\\localcache\\local-packages\\python39\\site-packages (from spacy) (4.62.3)\n",
      "Requirement already satisfied: pydantic!=1.8,!=1.8.1,<1.9.0,>=1.7.4 in c:\\users\\k\\appdata\\local\\packages\\pythonsoftwarefoundation.python.3.9_qbz5n2kfra8p0\\localcache\\local-packages\\python39\\site-packages (from spacy) (1.8.2)\n",
      "Requirement already satisfied: spacy-loggers<2.0.0,>=1.0.0 in c:\\users\\k\\appdata\\local\\packages\\pythonsoftwarefoundation.python.3.9_qbz5n2kfra8p0\\localcache\\local-packages\\python39\\site-packages (from spacy) (1.0.2)\n",
      "Requirement already satisfied: wasabi<1.1.0,>=0.8.1 in c:\\users\\k\\appdata\\local\\packages\\pythonsoftwarefoundation.python.3.9_qbz5n2kfra8p0\\localcache\\local-packages\\python39\\site-packages (from spacy) (0.9.1)\n",
      "Requirement already satisfied: murmurhash<1.1.0,>=0.28.0 in c:\\users\\k\\appdata\\local\\packages\\pythonsoftwarefoundation.python.3.9_qbz5n2kfra8p0\\localcache\\local-packages\\python39\\site-packages (from spacy) (1.0.6)\n",
      "Requirement already satisfied: jinja2 in c:\\users\\k\\appdata\\local\\packages\\pythonsoftwarefoundation.python.3.9_qbz5n2kfra8p0\\localcache\\local-packages\\python39\\site-packages (from spacy) (3.1.1)\n",
      "Requirement already satisfied: packaging>=20.0 in c:\\users\\k\\appdata\\local\\packages\\pythonsoftwarefoundation.python.3.9_qbz5n2kfra8p0\\localcache\\local-packages\\python39\\site-packages (from spacy) (21.3)\n",
      "Requirement already satisfied: spacy-legacy<3.1.0,>=3.0.8 in c:\\users\\k\\appdata\\local\\packages\\pythonsoftwarefoundation.python.3.9_qbz5n2kfra8p0\\localcache\\local-packages\\python39\\site-packages (from spacy) (3.0.9)\n",
      "Requirement already satisfied: thinc<8.1.0,>=8.0.12 in c:\\users\\k\\appdata\\local\\packages\\pythonsoftwarefoundation.python.3.9_qbz5n2kfra8p0\\localcache\\local-packages\\python39\\site-packages (from spacy) (8.0.15)\n",
      "Requirement already satisfied: cymem<2.1.0,>=2.0.2 in c:\\users\\k\\appdata\\local\\packages\\pythonsoftwarefoundation.python.3.9_qbz5n2kfra8p0\\localcache\\local-packages\\python39\\site-packages (from spacy) (2.0.6)\n",
      "Requirement already satisfied: colorama in c:\\users\\k\\appdata\\local\\packages\\pythonsoftwarefoundation.python.3.9_qbz5n2kfra8p0\\localcache\\local-packages\\python39\\site-packages (from click<8.1.0->spacy) (0.4.4)\n",
      "Requirement already satisfied: pyparsing!=3.0.5,>=2.0.2 in c:\\users\\k\\appdata\\local\\packages\\pythonsoftwarefoundation.python.3.9_qbz5n2kfra8p0\\localcache\\local-packages\\python39\\site-packages (from packaging>=20.0->spacy) (3.0.7)\n",
      "Requirement already satisfied: smart-open<6.0.0,>=5.0.0 in c:\\users\\k\\appdata\\local\\packages\\pythonsoftwarefoundation.python.3.9_qbz5n2kfra8p0\\localcache\\local-packages\\python39\\site-packages (from pathy>=0.3.5->spacy) (5.2.1)\n",
      "Requirement already satisfied: typing-extensions>=3.7.4.3 in c:\\users\\k\\appdata\\local\\packages\\pythonsoftwarefoundation.python.3.9_qbz5n2kfra8p0\\localcache\\local-packages\\python39\\site-packages (from pydantic!=1.8,!=1.8.1,<1.9.0,>=1.7.4->spacy) (4.1.1)\n",
      "Requirement already satisfied: urllib3<1.27,>=1.21.1 in c:\\users\\k\\appdata\\local\\packages\\pythonsoftwarefoundation.python.3.9_qbz5n2kfra8p0\\localcache\\local-packages\\python39\\site-packages (from requests<3.0.0,>=2.13.0->spacy) (1.26.8)\n",
      "Requirement already satisfied: charset-normalizer~=2.0.0 in c:\\users\\k\\appdata\\local\\packages\\pythonsoftwarefoundation.python.3.9_qbz5n2kfra8p0\\localcache\\local-packages\\python39\\site-packages (from requests<3.0.0,>=2.13.0->spacy) (2.0.12)\n",
      "Requirement already satisfied: idna<4,>=2.5 in c:\\users\\k\\appdata\\local\\packages\\pythonsoftwarefoundation.python.3.9_qbz5n2kfra8p0\\localcache\\local-packages\\python39\\site-packages (from requests<3.0.0,>=2.13.0->spacy) (3.3)\n",
      "Requirement already satisfied: certifi>=2017.4.17 in c:\\users\\k\\appdata\\local\\packages\\pythonsoftwarefoundation.python.3.9_qbz5n2kfra8p0\\localcache\\local-packages\\python39\\site-packages (from requests<3.0.0,>=2.13.0->spacy) (2021.10.8)\n",
      "Requirement already satisfied: MarkupSafe>=2.0 in c:\\users\\k\\appdata\\local\\packages\\pythonsoftwarefoundation.python.3.9_qbz5n2kfra8p0\\localcache\\local-packages\\python39\\site-packages (from jinja2->spacy) (2.1.1)\n",
      "Note: you may need to restart the kernel to use updated packages.\n"
     ]
    },
    {
     "name": "stderr",
     "output_type": "stream",
     "text": [
      "WARNING: You are using pip version 22.0.3; however, version 22.0.4 is available.\n",
      "You should consider upgrading via the 'C:\\Users\\K\\AppData\\Local\\Microsoft\\WindowsApps\\PythonSoftwareFoundation.Python.3.9_qbz5n2kfra8p0\\python.exe -m pip install --upgrade pip' command.\n"
     ]
    }
   ],
   "source": [
    "%pip install -U spacy"
   ]
  },
  {
   "cell_type": "code",
   "execution_count": 11,
   "metadata": {},
   "outputs": [
    {
     "name": "stderr",
     "output_type": "stream",
     "text": [
      "UsageError: Line magic function `%-m` not found.\n"
     ]
    }
   ],
   "source": [
    "%-m spacy download en_core_web_sm"
   ]
  },
  {
   "cell_type": "code",
   "execution_count": 12,
   "metadata": {},
   "outputs": [
    {
     "name": "stdout",
     "output_type": "stream",
     "text": [
      "Requirement already satisfied: networkx in c:\\users\\k\\appdata\\local\\packages\\pythonsoftwarefoundation.python.3.9_qbz5n2kfra8p0\\localcache\\local-packages\\python39\\site-packages (2.7.1)\n",
      "Note: you may need to restart the kernel to use updated packages.\n"
     ]
    },
    {
     "name": "stderr",
     "output_type": "stream",
     "text": [
      "WARNING: You are using pip version 22.0.3; however, version 22.0.4 is available.\n",
      "You should consider upgrading via the 'C:\\Users\\K\\AppData\\Local\\Microsoft\\WindowsApps\\PythonSoftwareFoundation.Python.3.9_qbz5n2kfra8p0\\python.exe -m pip install --upgrade pip' command.\n"
     ]
    }
   ],
   "source": [
    " %pip install networkx"
   ]
  },
  {
   "cell_type": "code",
   "execution_count": 3,
   "metadata": {},
   "outputs": [],
   "source": [
    "import pandas as pd\n",
    "import networkx as nx \n",
    "import matplotlib.pyplot as plt\n",
    "from tqdm import tqdm\n",
    "\n",
    "import spacy\n",
    "from spacy.matcher import matcher\n",
    "\n",
    "\n",
    "nlp = spacy.load(\"en_core_web_sm\")"
   ]
  },
  {
   "cell_type": "code",
   "execution_count": 4,
   "metadata": {},
   "outputs": [],
   "source": [
    "pd.set_option('display.max_colwidth',200)"
   ]
  },
  {
   "cell_type": "code",
   "execution_count": 5,
   "metadata": {},
   "outputs": [
    {
     "data": {
      "text/plain": [
       "255         the latter film spawned a sequel: 28 weeks later .\n",
       "1569                              kamal haasan debuted in 1960\n",
       "1637             furious and heartbroken, sophie leaves akash.\n",
       "3123         this brought wider success and acclaim to rampal.\n",
       "789     : it's all about trying to hit the core and the heart.\n",
       "Name: sentence, dtype: object"
      ]
     },
     "execution_count": 5,
     "metadata": {},
     "output_type": "execute_result"
    }
   ],
   "source": [
    "candidate_sentences = pd.read_csv(\"wiki_sentences_v2.csv\")\n",
    "\n",
    "candidate_sentences['sentence'].sample(5)"
   ]
  },
  {
   "cell_type": "code",
   "execution_count": 7,
   "metadata": {},
   "outputs": [
    {
     "name": "stdout",
     "output_type": "stream",
     "text": [
      "I am a boy.\n",
      "He is Peter.\n"
     ]
    }
   ],
   "source": [
    "s = \"I am a boy. He is Peter.\"\n",
    "d = nlp(s)\n",
    "for e in d.sents:\n",
    "    print(e)"
   ]
  },
  {
   "cell_type": "code",
   "execution_count": 8,
   "metadata": {},
   "outputs": [
    {
     "name": "stdout",
     "output_type": "stream",
     "text": [
      "confused and frustrated, connie decides to leave on her own. 60\n"
     ]
    }
   ],
   "source": [
    "# count individual charaters\n",
    "\n",
    "t = candidate_sentences['sentence'][0]\n",
    "print(t,len(t))"
   ]
  },
  {
   "cell_type": "code",
   "execution_count": 9,
   "metadata": {},
   "outputs": [
    {
     "name": "stdout",
     "output_type": "stream",
     "text": [
      "confused and frustrated, connie decides to leave on her own. 12\n"
     ]
    }
   ],
   "source": [
    "doc = nlp(candidate_sentences['sentence'][0]) #count individual\n",
    "print(doc,len(doc))"
   ]
  },
  {
   "cell_type": "code",
   "execution_count": 10,
   "metadata": {},
   "outputs": [
    {
     "data": {
      "text/html": [
       "<span class=\"tex2jax_ignore\"><svg xmlns=\"http://www.w3.org/2000/svg\" xmlns:xlink=\"http://www.w3.org/1999/xlink\" xml:lang=\"en\" id=\"bd2ae1c9752d461e93bb1c0cf6c5d36f-0\" class=\"displacy\" width=\"1800\" height=\"487.0\" direction=\"ltr\" style=\"max-width: none; height: 487.0px; color: #000000; background: #ffffff; font-family: Arial; direction: ltr\">\n",
       "<text class=\"displacy-token\" fill=\"currentColor\" text-anchor=\"middle\" y=\"397.0\">\n",
       "    <tspan class=\"displacy-word\" fill=\"currentColor\" x=\"50\">the</tspan>\n",
       "    <tspan class=\"displacy-tag\" dy=\"2em\" fill=\"currentColor\" x=\"50\">DET</tspan>\n",
       "</text>\n",
       "\n",
       "<text class=\"displacy-token\" fill=\"currentColor\" text-anchor=\"middle\" y=\"397.0\">\n",
       "    <tspan class=\"displacy-word\" fill=\"currentColor\" x=\"225\">drawdown</tspan>\n",
       "    <tspan class=\"displacy-tag\" dy=\"2em\" fill=\"currentColor\" x=\"225\">NOUN</tspan>\n",
       "</text>\n",
       "\n",
       "<text class=\"displacy-token\" fill=\"currentColor\" text-anchor=\"middle\" y=\"397.0\">\n",
       "    <tspan class=\"displacy-word\" fill=\"currentColor\" x=\"400\">process</tspan>\n",
       "    <tspan class=\"displacy-tag\" dy=\"2em\" fill=\"currentColor\" x=\"400\">NOUN</tspan>\n",
       "</text>\n",
       "\n",
       "<text class=\"displacy-token\" fill=\"currentColor\" text-anchor=\"middle\" y=\"397.0\">\n",
       "    <tspan class=\"displacy-word\" fill=\"currentColor\" x=\"575\">i</tspan>\n",
       "    <tspan class=\"displacy-tag\" dy=\"2em\" fill=\"currentColor\" x=\"575\">PRON</tspan>\n",
       "</text>\n",
       "\n",
       "<text class=\"displacy-token\" fill=\"currentColor\" text-anchor=\"middle\" y=\"397.0\">\n",
       "    <tspan class=\"displacy-word\" fill=\"currentColor\" x=\"750\">s</tspan>\n",
       "    <tspan class=\"displacy-tag\" dy=\"2em\" fill=\"currentColor\" x=\"750\">AUX</tspan>\n",
       "</text>\n",
       "\n",
       "<text class=\"displacy-token\" fill=\"currentColor\" text-anchor=\"middle\" y=\"397.0\">\n",
       "    <tspan class=\"displacy-word\" fill=\"currentColor\" x=\"925\">goveerned</tspan>\n",
       "    <tspan class=\"displacy-tag\" dy=\"2em\" fill=\"currentColor\" x=\"925\">VERB</tspan>\n",
       "</text>\n",
       "\n",
       "<text class=\"displacy-token\" fill=\"currentColor\" text-anchor=\"middle\" y=\"397.0\">\n",
       "    <tspan class=\"displacy-word\" fill=\"currentColor\" x=\"1100\">by</tspan>\n",
       "    <tspan class=\"displacy-tag\" dy=\"2em\" fill=\"currentColor\" x=\"1100\">ADP</tspan>\n",
       "</text>\n",
       "\n",
       "<text class=\"displacy-token\" fill=\"currentColor\" text-anchor=\"middle\" y=\"397.0\">\n",
       "    <tspan class=\"displacy-word\" fill=\"currentColor\" x=\"1275\">astm</tspan>\n",
       "    <tspan class=\"displacy-tag\" dy=\"2em\" fill=\"currentColor\" x=\"1275\">NOUN</tspan>\n",
       "</text>\n",
       "\n",
       "<text class=\"displacy-token\" fill=\"currentColor\" text-anchor=\"middle\" y=\"397.0\">\n",
       "    <tspan class=\"displacy-word\" fill=\"currentColor\" x=\"1450\">standard</tspan>\n",
       "    <tspan class=\"displacy-tag\" dy=\"2em\" fill=\"currentColor\" x=\"1450\">NOUN</tspan>\n",
       "</text>\n",
       "\n",
       "<text class=\"displacy-token\" fill=\"currentColor\" text-anchor=\"middle\" y=\"397.0\">\n",
       "    <tspan class=\"displacy-word\" fill=\"currentColor\" x=\"1625\">d823</tspan>\n",
       "    <tspan class=\"displacy-tag\" dy=\"2em\" fill=\"currentColor\" x=\"1625\">NUM</tspan>\n",
       "</text>\n",
       "\n",
       "<g class=\"displacy-arrow\">\n",
       "    <path class=\"displacy-arc\" id=\"arrow-bd2ae1c9752d461e93bb1c0cf6c5d36f-0-0\" stroke-width=\"2px\" d=\"M70,352.0 C70,177.0 390.0,177.0 390.0,352.0\" fill=\"none\" stroke=\"currentColor\"/>\n",
       "    <text dy=\"1.25em\" style=\"font-size: 0.8em; letter-spacing: 1px\">\n",
       "        <textPath xlink:href=\"#arrow-bd2ae1c9752d461e93bb1c0cf6c5d36f-0-0\" class=\"displacy-label\" startOffset=\"50%\" side=\"left\" fill=\"currentColor\" text-anchor=\"middle\">det</textPath>\n",
       "    </text>\n",
       "    <path class=\"displacy-arrowhead\" d=\"M70,354.0 L62,342.0 78,342.0\" fill=\"currentColor\"/>\n",
       "</g>\n",
       "\n",
       "<g class=\"displacy-arrow\">\n",
       "    <path class=\"displacy-arc\" id=\"arrow-bd2ae1c9752d461e93bb1c0cf6c5d36f-0-1\" stroke-width=\"2px\" d=\"M245,352.0 C245,264.5 385.0,264.5 385.0,352.0\" fill=\"none\" stroke=\"currentColor\"/>\n",
       "    <text dy=\"1.25em\" style=\"font-size: 0.8em; letter-spacing: 1px\">\n",
       "        <textPath xlink:href=\"#arrow-bd2ae1c9752d461e93bb1c0cf6c5d36f-0-1\" class=\"displacy-label\" startOffset=\"50%\" side=\"left\" fill=\"currentColor\" text-anchor=\"middle\">compound</textPath>\n",
       "    </text>\n",
       "    <path class=\"displacy-arrowhead\" d=\"M245,354.0 L237,342.0 253,342.0\" fill=\"currentColor\"/>\n",
       "</g>\n",
       "\n",
       "<g class=\"displacy-arrow\">\n",
       "    <path class=\"displacy-arc\" id=\"arrow-bd2ae1c9752d461e93bb1c0cf6c5d36f-0-2\" stroke-width=\"2px\" d=\"M595,352.0 C595,177.0 915.0,177.0 915.0,352.0\" fill=\"none\" stroke=\"currentColor\"/>\n",
       "    <text dy=\"1.25em\" style=\"font-size: 0.8em; letter-spacing: 1px\">\n",
       "        <textPath xlink:href=\"#arrow-bd2ae1c9752d461e93bb1c0cf6c5d36f-0-2\" class=\"displacy-label\" startOffset=\"50%\" side=\"left\" fill=\"currentColor\" text-anchor=\"middle\">nsubjpass</textPath>\n",
       "    </text>\n",
       "    <path class=\"displacy-arrowhead\" d=\"M595,354.0 L587,342.0 603,342.0\" fill=\"currentColor\"/>\n",
       "</g>\n",
       "\n",
       "<g class=\"displacy-arrow\">\n",
       "    <path class=\"displacy-arc\" id=\"arrow-bd2ae1c9752d461e93bb1c0cf6c5d36f-0-3\" stroke-width=\"2px\" d=\"M770,352.0 C770,264.5 910.0,264.5 910.0,352.0\" fill=\"none\" stroke=\"currentColor\"/>\n",
       "    <text dy=\"1.25em\" style=\"font-size: 0.8em; letter-spacing: 1px\">\n",
       "        <textPath xlink:href=\"#arrow-bd2ae1c9752d461e93bb1c0cf6c5d36f-0-3\" class=\"displacy-label\" startOffset=\"50%\" side=\"left\" fill=\"currentColor\" text-anchor=\"middle\">aux</textPath>\n",
       "    </text>\n",
       "    <path class=\"displacy-arrowhead\" d=\"M770,354.0 L762,342.0 778,342.0\" fill=\"currentColor\"/>\n",
       "</g>\n",
       "\n",
       "<g class=\"displacy-arrow\">\n",
       "    <path class=\"displacy-arc\" id=\"arrow-bd2ae1c9752d461e93bb1c0cf6c5d36f-0-4\" stroke-width=\"2px\" d=\"M420,352.0 C420,89.5 920.0,89.5 920.0,352.0\" fill=\"none\" stroke=\"currentColor\"/>\n",
       "    <text dy=\"1.25em\" style=\"font-size: 0.8em; letter-spacing: 1px\">\n",
       "        <textPath xlink:href=\"#arrow-bd2ae1c9752d461e93bb1c0cf6c5d36f-0-4\" class=\"displacy-label\" startOffset=\"50%\" side=\"left\" fill=\"currentColor\" text-anchor=\"middle\">relcl</textPath>\n",
       "    </text>\n",
       "    <path class=\"displacy-arrowhead\" d=\"M920.0,354.0 L928.0,342.0 912.0,342.0\" fill=\"currentColor\"/>\n",
       "</g>\n",
       "\n",
       "<g class=\"displacy-arrow\">\n",
       "    <path class=\"displacy-arc\" id=\"arrow-bd2ae1c9752d461e93bb1c0cf6c5d36f-0-5\" stroke-width=\"2px\" d=\"M945,352.0 C945,264.5 1085.0,264.5 1085.0,352.0\" fill=\"none\" stroke=\"currentColor\"/>\n",
       "    <text dy=\"1.25em\" style=\"font-size: 0.8em; letter-spacing: 1px\">\n",
       "        <textPath xlink:href=\"#arrow-bd2ae1c9752d461e93bb1c0cf6c5d36f-0-5\" class=\"displacy-label\" startOffset=\"50%\" side=\"left\" fill=\"currentColor\" text-anchor=\"middle\">agent</textPath>\n",
       "    </text>\n",
       "    <path class=\"displacy-arrowhead\" d=\"M1085.0,354.0 L1093.0,342.0 1077.0,342.0\" fill=\"currentColor\"/>\n",
       "</g>\n",
       "\n",
       "<g class=\"displacy-arrow\">\n",
       "    <path class=\"displacy-arc\" id=\"arrow-bd2ae1c9752d461e93bb1c0cf6c5d36f-0-6\" stroke-width=\"2px\" d=\"M1295,352.0 C1295,264.5 1435.0,264.5 1435.0,352.0\" fill=\"none\" stroke=\"currentColor\"/>\n",
       "    <text dy=\"1.25em\" style=\"font-size: 0.8em; letter-spacing: 1px\">\n",
       "        <textPath xlink:href=\"#arrow-bd2ae1c9752d461e93bb1c0cf6c5d36f-0-6\" class=\"displacy-label\" startOffset=\"50%\" side=\"left\" fill=\"currentColor\" text-anchor=\"middle\">compound</textPath>\n",
       "    </text>\n",
       "    <path class=\"displacy-arrowhead\" d=\"M1295,354.0 L1287,342.0 1303,342.0\" fill=\"currentColor\"/>\n",
       "</g>\n",
       "\n",
       "<g class=\"displacy-arrow\">\n",
       "    <path class=\"displacy-arc\" id=\"arrow-bd2ae1c9752d461e93bb1c0cf6c5d36f-0-7\" stroke-width=\"2px\" d=\"M1120,352.0 C1120,177.0 1440.0,177.0 1440.0,352.0\" fill=\"none\" stroke=\"currentColor\"/>\n",
       "    <text dy=\"1.25em\" style=\"font-size: 0.8em; letter-spacing: 1px\">\n",
       "        <textPath xlink:href=\"#arrow-bd2ae1c9752d461e93bb1c0cf6c5d36f-0-7\" class=\"displacy-label\" startOffset=\"50%\" side=\"left\" fill=\"currentColor\" text-anchor=\"middle\">pobj</textPath>\n",
       "    </text>\n",
       "    <path class=\"displacy-arrowhead\" d=\"M1440.0,354.0 L1448.0,342.0 1432.0,342.0\" fill=\"currentColor\"/>\n",
       "</g>\n",
       "\n",
       "<g class=\"displacy-arrow\">\n",
       "    <path class=\"displacy-arc\" id=\"arrow-bd2ae1c9752d461e93bb1c0cf6c5d36f-0-8\" stroke-width=\"2px\" d=\"M945,352.0 C945,2.0 1625.0,2.0 1625.0,352.0\" fill=\"none\" stroke=\"currentColor\"/>\n",
       "    <text dy=\"1.25em\" style=\"font-size: 0.8em; letter-spacing: 1px\">\n",
       "        <textPath xlink:href=\"#arrow-bd2ae1c9752d461e93bb1c0cf6c5d36f-0-8\" class=\"displacy-label\" startOffset=\"50%\" side=\"left\" fill=\"currentColor\" text-anchor=\"middle\">npadvmod</textPath>\n",
       "    </text>\n",
       "    <path class=\"displacy-arrowhead\" d=\"M1625.0,354.0 L1633.0,342.0 1617.0,342.0\" fill=\"currentColor\"/>\n",
       "</g>\n",
       "</svg></span>"
      ],
      "text/plain": [
       "<IPython.core.display.HTML object>"
      ]
     },
     "metadata": {},
     "output_type": "display_data"
    }
   ],
   "source": [
    "from spacy import displacy\n",
    "doc = nlp(\"the drawdown process i s goveerned by astm standard d823\")\n",
    "displacy.render(doc, style=\"dep\")"
   ]
  },
  {
   "cell_type": "code",
   "execution_count": 12,
   "metadata": {},
   "outputs": [
    {
     "name": "stdout",
     "output_type": "stream",
     "text": [
      "the --> det\n",
      "drawdown --> compound\n",
      "process --> ROOT\n",
      "i --> nsubjpass\n",
      "s --> aux\n",
      "goveerned --> relcl\n",
      "by --> agent\n",
      "astm --> compound\n",
      "standard --> pobj\n",
      "d823 --> npadvmod\n"
     ]
    }
   ],
   "source": [
    "for tok in doc:\n",
    "    print(tok.text, \"-->\", tok.dep_)"
   ]
  },
  {
   "cell_type": "code",
   "execution_count": 19,
   "metadata": {},
   "outputs": [],
   "source": [
    "#task 1\n",
    "\n",
    "def get_entities(sent):\n",
    "    \n",
    "  ent1 = \"\"           # Variable for storing the subject.\n",
    "  ent2 = \"\"           # Variable for storing the object.\n",
    "\n",
    "  prv_tok_dep = \"\"    # Variable for dependency tag of previous token in the sentence.\n",
    "  prv_tok_text = \"\"   # Variable for previous token in the sentence.\n",
    "\n",
    "  prefix = \"\"         # Variable for storing compounds.\n",
    "  modifier = \"\"       # Variable for storing modifieres.\n",
    "\n",
    "  # Loop through the tokens in the sentence.\n",
    "  ## YOUR CODE GOES HERE.\n",
    "    # Check if a token is a punctuation mark or not.\n",
    "    ## YOUR CODE GOES HERE.\n",
    "      # Check if a token is a compound one or not.\n",
    "      ## YOUR CODE GOES HERE.\n",
    "        # If yes, then store the token in the prefix variable.\n",
    "        ## YOUR CODE GOES HERE.\n",
    "        # Check if the previous token was also a compound one.\n",
    "        ## YOUR CODE GOES HERE.\n",
    "          # If yes, then update the prefix variable.\n",
    "          ## YOUR CODE GOES HERE.\n",
    "  for tok in nlp(sent):\n",
    "    if tok.dep_ != \"punct\":\n",
    "        if tok.dep_ == \"compound\":\n",
    "            prefix = tok.text\n",
    "            if prv_tok_dep == \"compound\":\n",
    "                prefix = prv_tok_text + \" \"+ tok.text\n",
    "        if tok.dep_.endswith(\"mod\")== True:\n",
    "            modifier = tok.text\n",
    "            if prv_tok_dep == \"compound\":\n",
    "                modifier = prv_tok_text + \" \"+ tok.text\n",
    "        if tok.dep_.find(\"subj\") == True:\n",
    "            ent1 = modifier + \" \"+ prefix + \" \"+tok.text\n",
    "            prefix = \"\" \n",
    "            modifier = \"\"\n",
    "            prv_tok_dep = \"\" \n",
    "            prv_tok_text = \"\"\n",
    "        if tok.dep_.find(\"obj\") == True:\n",
    "            ent2 = modifier + \" \"+ prefix + \" \"+tok.text\n",
    "        prv_tok_dep = tok.dep_\n",
    "        prv_tok_text = tok.text\n",
    "\n",
    "\n",
    "          \n",
    "      # Check if a token is a modifier or not.\n",
    "      ## YOUR CODE GOES HERE.\n",
    "        # If yes, then store the token in the modifier varible.\n",
    "        ## YOUR CODE GOES HERE.\n",
    "        # Check if the previous token was a compound one.\n",
    "        ## YOUR CODE GOES HERE.\n",
    "          # If yes, then update the modifier variable.\n",
    "          ## YOUR CODE GOES HERE.\n",
    "      \n",
    "      # Check if a token is the subject.\n",
    "      ## YOUR CODE GOES HERE.\n",
    "        # If yes, then concatenate the modifier, prefix, and token\n",
    "        # and assign the result to the subject variable (ent1).\n",
    "        ## YOUR CODE GOES HERE.\n",
    "        # Reset the following variables: prefix, modifier, prv_tok_dep, and prv_tok_text.\n",
    "        ## YOUR CODE GOES HERE.    \n",
    "\n",
    "      # Check if a token is the object.\n",
    "      ## YOUR CODE GOES HERE.\n",
    "        # If yes, then concatenate the modifier, prefix, and token \n",
    "        # and assign the result to the object variable (ent2).\n",
    "        ## YOUR CODE GOES HERE.\n",
    "         \n",
    "      # Update the variable for the dependency tag for the previous token. \n",
    "      ## YOUR CODE GOES HERE.\n",
    "      # Update the variable for the previous token in the sentence.\n",
    "      ## YOUR CODE GOES HERE.\n",
    "\n",
    "  return [ent1.strip(), ent2.strip()]"
   ]
  },
  {
   "cell_type": "code",
   "execution_count": 20,
   "metadata": {},
   "outputs": [
    {
     "name": "stdout",
     "output_type": "stream",
     "text": [
      "['film', '200  patents']\n"
     ]
    }
   ],
   "source": [
    "print(get_entities(\"the film had 200 patents\"))"
   ]
  },
  {
   "cell_type": "code",
   "execution_count": 22,
   "metadata": {},
   "outputs": [
    {
     "name": "stderr",
     "output_type": "stream",
     "text": [
      "100%|██████████| 4318/4318 [00:15<00:00, 278.70it/s]\n"
     ]
    }
   ],
   "source": [
    "entity_pairs = []\n",
    "\n",
    "for i in tqdm(candidate_sentences[\"sentence\"]):\n",
    "    entity_pairs.append(get_entities(i))"
   ]
  },
  {
   "cell_type": "code",
   "execution_count": 23,
   "metadata": {},
   "outputs": [
    {
     "name": "stdout",
     "output_type": "stream",
     "text": [
      "[['connie', 'own'], ['later  scream', 'distance']]\n"
     ]
    }
   ],
   "source": [
    "print(entity_pairs[0:2])"
   ]
  },
  {
   "cell_type": "code",
   "execution_count": 24,
   "metadata": {},
   "outputs": [
    {
     "name": "stdout",
     "output_type": "stream",
     "text": [
      "[(16571425990740197027, 6, 7)]\n",
      "EMAIL_ADDRESS\n"
     ]
    }
   ],
   "source": [
    "#task 2\n",
    "from spacy.matcher import Matcher\n",
    "nlp = spacy.load(\"en_core_web_sm\")\n",
    "\n",
    "matcher = Matcher(nlp.vocab)\n",
    "pattern = [{\"LIKE_EMAIL\": True}]\n",
    "matcher.add(\"EMAIL_ADDRESS\",[pattern])\n",
    "\n",
    "doc = nlp(\"This is an email adress: xxx@yyy.com\")\n",
    "matches = matcher(doc)\n",
    "\n",
    "print(matches)\n",
    "print(nlp.vocab[matches[0][0]].text)"
   ]
  },
  {
   "cell_type": "code",
   "execution_count": 25,
   "metadata": {},
   "outputs": [
    {
     "name": "stdout",
     "output_type": "stream",
     "text": [
      "2\n",
      "(451313080118390996, 0, 1) Cynthia\n",
      "(451313080118390996, 1, 2) Smith\n",
      "PROPER_NOUN\n"
     ]
    }
   ],
   "source": [
    "pattern = [{\"POS\": \"PROPN\"}]\n",
    "matcher.add(\"PROPER_NOUN\",[pattern])\n",
    "\n",
    "doc = nlp(\"Cynthia Smith competed the task.\")\n",
    "matches = matcher(doc)\n",
    "\n",
    "print(len(matches))\n",
    "for match in matches:\n",
    "    print( match, doc[match[1]:match[2]])\n",
    "print(nlp.vocab[matches[0][0]].text)"
   ]
  },
  {
   "cell_type": "code",
   "execution_count": 26,
   "metadata": {},
   "outputs": [
    {
     "name": "stdout",
     "output_type": "stream",
     "text": [
      "3\n",
      "(451313080118390996, 0, 1) Cynthia\n",
      "(451313080118390996, 1, 2) Smith\n",
      "(451313080118390996, 0, 2) Cynthia Smith\n",
      "PROPER_NOUN\n"
     ]
    }
   ],
   "source": [
    "pattern = [{\"POS\": \"PROPN\", \"OP\": \"+\"}]\n",
    "matcher.add(\"PROPER_NOUN\",[pattern])\n",
    "\n",
    "doc = nlp(\"Cynthia Smith competed the task.\")\n",
    "matches = matcher(doc)\n",
    "\n",
    "print(len(matches))\n",
    "for match in matches:\n",
    "    print( match, doc[match[1]:match[2]])\n",
    "print(nlp.vocab[matches[0][0]].text)"
   ]
  },
  {
   "cell_type": "code",
   "execution_count": 28,
   "metadata": {},
   "outputs": [
    {
     "name": "stdout",
     "output_type": "stream",
     "text": [
      "1\n",
      "(451313080118390996, 0, 3) Cynthia Smith completed\n",
      "PROPER_NOUN\n"
     ]
    }
   ],
   "source": [
    "pattern = [{\"POS\": \"PROPN\", \"OP\": \"+\"},{\"POS\":\"VERB\"}]\n",
    "matcher.add(\"PROPER_NOUN\",[pattern], greedy=\"LONGEST\")\n",
    "\n",
    "doc = nlp(\"Cynthia Smith completed the task.\")\n",
    "matches = matcher(doc)\n",
    "matches.sort(key= lambda x:x[1])\n",
    "print(len(matches))\n",
    "for match in matches:\n",
    "    print( match, doc[match[1]:match[2]])\n",
    "print(nlp.vocab[matches[0][0]].text)"
   ]
  },
  {
   "cell_type": "code",
   "execution_count": 29,
   "metadata": {},
   "outputs": [],
   "source": [
    "def get_predicate(sent):\n",
    "    doc = nlp(sent)\n",
    "\n",
    "    matcher = Matcher(nlp.vocab)\n",
    "\n",
    "    pattern = [{'DEP':'ROOT'},{'DEP':'prep','OP':\"?\"},{'DEP':'agent','OP':\"?\"}]\n",
    "\n",
    "    matcher.add(\"matching_1\", [pattern])\n",
    "\n",
    "    matches = matcher(doc)\n",
    "    k = len(matches) - 1\n",
    "\n",
    "\n",
    "    try: \n",
    "        span = doc[matches[k][1]:matches[k][2]]\n",
    "        predicate = span.text\n",
    "    except IndexError:\n",
    "        predicate = ''\n",
    "    return(predicate)"
   ]
  },
  {
   "cell_type": "code",
   "execution_count": 30,
   "metadata": {},
   "outputs": [
    {
     "name": "stdout",
     "output_type": "stream",
     "text": [
      "completed\n"
     ]
    }
   ],
   "source": [
    "print(get_predicate(\"John completed the task\"))"
   ]
  },
  {
   "cell_type": "code",
   "execution_count": 31,
   "metadata": {},
   "outputs": [
    {
     "name": "stdout",
     "output_type": "stream",
     "text": [
      "decides\n"
     ]
    }
   ],
   "source": [
    "print(get_predicate('confused and frustrated, Connie decides to leave on her own.'))"
   ]
  },
  {
   "cell_type": "code",
   "execution_count": 32,
   "metadata": {},
   "outputs": [
    {
     "data": {
      "text/plain": [
       "'later, a woman’s scream is heard in the distance.'"
      ]
     },
     "execution_count": 32,
     "metadata": {},
     "output_type": "execute_result"
    }
   ],
   "source": [
    "candidate_sentences['sentence'][1]"
   ]
  },
  {
   "cell_type": "code",
   "execution_count": 33,
   "metadata": {},
   "outputs": [
    {
     "name": "stderr",
     "output_type": "stream",
     "text": [
      "100%|██████████| 4318/4318 [00:16<00:00, 254.27it/s]"
     ]
    },
    {
     "name": "stdout",
     "output_type": "stream",
     "text": [
      "['decides', 'heard in', 'paralyzed by', 'set on', 'wails with', \"'s\", 'joined', 'revealed', 'revealed as', 'tried', 'went through', 'circling', 'supervised', 'features', 'is', 'injures', 'tasked with', 'attacked by', 'kota', 'return', 'stand', 'considered for', 'served as', 'completed on', 'released', 'released', 'distributed by', 'ended', 'chandler', 'dedicated to', 'approach', 'frees', 'disowns', 'appears as', 'credited as', 'stated', 'empathizing with', 'was', 'contributed to', 'took', 'changed', 'became', 'look like', 'perform', 'managed', 'released on', 'written by', 'conducted by', 'released', 'released', 'scheduled', 'offered in', 'includes', 'include', 'are', 'was', 'tend', 'include', 'prevalent in', 'is', 'are', 'had', 'supervises', 'oversee', 'credited', 'start in', 'started as', 'attended', 'use', 'take', 'equipped with', 'designed for', 'cooperates with', 'femis in', 'is', 'presented in', 'presented in', 'returns', 'breaks', 'imprisoned at', 'premiered in', 'doing', 'reshoot', 'joined', 'scheduled', 'been', 'wait', 'did', 'wait', 'did', 'is', 'produced by', 'were', 'suggested', 'being', 'wall', 'shifts', 'look at', 'cuts to', 'gives', 'descends', 'closes', 'seen', 'are', 'ignores', 'has', 'starts from', 'esse', 'get', 'is', 'is', 'interpreted in', 'asked', 'became', 'worked on', 'went', 'confirmed', 'was in', 'appointed', 'include', 'expressed', 'been', 'is', 'was', 'had', 'returned', 'part', 'came', 'shouts', 'is', 'released in', 'reported', 'began on', 'confirmed as', 'affleck as', 'released', 'announced in', 'began in', 'introduced in', 'announced at', 'begun by', 'cast in', 'include', 'scheduled', 'drafted by', 'brought', 'hired', 'revealed', 'scheduled', 'expected', 'through', 'expected', 'scheduled', 'occurred', 'reported', 'began on', 'confirmed as', 'affleck as', 'released', 'announced in', 'began in', 'introduced in', 'announced at', 'begun by', 'cast in', 'include', 'scheduled', 'drafted by', 'brought', 'hired', 'revealed', 'scheduled', 'expected', 'through', 'expected', 'scheduled', 'occurred', 'reacts', 'agree', 'confirmed in', 'left', 'ceased', 'began about', 'received', 'followed on', 'released', 'referred to', 'is', 'included', 'is', 'jumped to', 'overlap with', 'include', 'is', 'was', 'were', 'directed by', 'is', 'split into', 'is', 'made', 'was', 'helped', 'become', 'was', 'received by', 'is', 'was', 'received by', 'gives', 'is', \"'s\", 'was in', 'was', 'stars', 'was', 'paired', 'wrote', 'was', 'portrayed', 'continued by', 'begin', 'called', 'divided', 'was', 'was', 'followed', 'enhanced', 'considered', 'is', 'is', 'become', 'used', 'was', 'was', 'were', 'ranked', 'is', 'seen in', 'is', 'released', 'released in', 'is', 'is', 'was', 'is', 'was', 'was', 'written', 'became', 'marked', 'become', 'is', 'is', 'proved', 'spawned', '', 'is', 'released in', 'prevalent in', 'fuses', 'depicts', 'set during', 'include', 'include', 'include', 'include', 'overlap with', 'include', 'was', 'include', 'is', 'created', 'present', 'concerned with', 'include', 'splatter', 'include', 'is', 'become', 'be', 'halted on', 'became', 'become', 'argue in', 'became', 'was', 'confirmed as', 'flooded with', 'included', 'grease', 'was', 'ones', 'include', 'was', 'become', 'raja', 'been', 'appear', 'impacted', 'was', 'was', 'limited to', 'provided', 'was', 'starred', 'is', 'was', 'funded by', 'made for', 'birth of', 'were', 'came', 'become', 'declined in', 'continue within', 'was', 'distributed via', 'is', 'portrays', 'start', 'is', 'chose', 'used as', 'provided by', 'composed by', 'chapter', 'is', 'portrays', 'start', 'is', 'chose', 'used as', 'provided by', 'composed by', 'chapter', 'notion of', 'was', 'were', 'days of', 'saw', 'written by', 'composed by', 'submitted', 'written for', 'cast on', 'cast as', 'filming', 'filmed in', 'was', 'was', 'recreated by', 'made from', 'noted for', 'rerecorded', 'deleted in', 'was', 'is', 'held in', 'opened', 'was', 'given', 'scheduled', 'retains', 'has', 'wrote', 'exist between', 'directed by', 'was', 'was', 'was', 'include', 'pioneered by', 'include', 'include', 'include', 'stars', 'is', 'competing for', 'based on', 'cost', 'contacted', 'become', 'was', 'began on', 'released', 'released on', 'is', 'were in', 'ended', 'fades in', 'gives', 'gives', 'were', 'concluded on', 'edited', 'debated', 'is', 'apm', 'have', 'is', 'deserves', 'include', 'means', 'is', 'charges', 'were', 'banned for', 'overturned', 'criticized', \"'s\", 'watch', 'want', 'want on', 'is', 'was', 'is', 'remained as', 'gains', 'found', 'opens', 'have', 'is', 'was', 'is', 'composed by', 'handled by', 'commenced on', 'is', 'infatuated with', 'go', 'proves', 'focouses on', 'worsens', 'beaten', 'decide', 'done by', 'done by', 'suggested along', 'scheduled', 'saw', 'included', 'were', 'is', 'is', 'became', 'is', 'became', 'show', 'focus on', 'considered', 'is', 'is', 'is', 'are', 'started in', 'is', 'focused on', 'included', 'include', 'festival', 'is', 'has', 'is', 'is', 'is on', 'dedicated', 'include', 'considered', 'includes', 'distributed by', 'planned', 'was', 'hired', 'delayed', 'appear via', 'featured', 'sourced from', 'sold', 'designed by', 'includes', 'distributed by', 'planned', 'was', 'hired', 'delayed', 'appear via', 'featured', 'sourced from', 'sold', 'designed by', 'developed in', 'introduced in', 'presented', 'pushed to', 'given', 'was', 'bhoslekishore', 'developed in', 'introduced in', 'presented', 'pushed to', 'given', 'was', 'bhoslekishore', 'is', 'introduced', 'played', 'directed by', 'waning', 'died in', 'performed by', 'reported', 'performed by', 'started at', 'felt', 'starred as', 'greenlight', 'approached', 'intended', 'pitched in', 'listed at', 'intended', 'cast as', 'set', 'referenced', 'scheduled', 'produced', 'followed in', 'called', 'were', 'were', 'was', 'was', 'had', 'designed around', 'was', 'were', 'is', 'try', 'is', 'include', 'used', 'recommended due', 'mm filmmycro', 'was', 'be', 'gotten', 'include', 'focus on', 'include', 'was', 'include', 'include', 'has', 'include', 'is', 'huggins', 'mentions', 'production', 'received', 'imprisons', 'gives', 'ambushed by', 'arrives', 'retrieves', 'tirith', 'attacks', 'released', 'trilogy', 'founded', 'called', 'settled', 'released', 'is', 'married', 'set', 'ali', 'received', 'were in', 'be', 'released on', 'released on', 'released on', 'released on', 'released on', 'hired', 'hired', 'released on', 'written by', 'hired', 'released on', 'released on', 'going', 'occurred in', 'released on', 'surpassed', 'praised', 'praised due', 'disbanded', 'became', 'was', 'released', 'praised for', 'is', 'is', 'released', 'released on', 'preceded by', 'released', 'released on', 'went', 'released on', 'appeared in', 'released on', 'concluded on', 'stick to', 'released on', 'become', 'released on', 'described', 'has', 'style', 'disbanded', 'became', 'was', 'released', 'praised for', 'is', 'is', 'released', 'released on', 'preceded by', 'released', 'released on', 'went', 'released on', 'appeared in', 'released on', 'concluded on', 'stick to', 'released on', 'become', 'released on', 'described', 'has', 'style', 'negotiate', 'designed', 'have', 'inform', 'recording', 'assembled by', 'added by', 'duplicated as', 'negotiate', 'designed', 'have', 'inform', 'recording', 'assembled by', 'added by', 'duplicated as', 'is', 'chose', 'was for', 'is', 'rated', 'based on', 'began in', 'issues', 'seen in', 'was', 'awarded', 'permitted in', 'earned', 'accepted from', 'succeeded in', 'continued', 'categorized as', 'contains', 'were', 'censored', 'known', 'emerged', 'was', 'were', 'does', 'stop', 'followed by', 'centered in', 'been', 'specialize in', 'wear', 'befriended by', 'scream', 'is', 'began', 'founded by', 'went to', 'was', 'held', 'continued at', 'is', 'finalised', 'is', 'composed by', 'rated', 'is', 'established', 'added', 'become', 'resolved by', 'included', 'were', 'used in', 'is', 'extended', 'were', 'starred', 'was', 'was', 'followed in', 'was', 'multiplying', 'was', 'was', 'became', 'was', 'became', 'was', 'birth of', 'weakened by', 'replaced with', 'used', 'was', 'directed by', 'arrived', 'included', 'considered', 'proliferated', 'continued', 'is', 'ikiru', 'was', 'render', 'considered', 'is', 'do', 'was', 'used', 'is', 'play', 'is', 'had', 'epic', 'is', 'was', 'appear', 'flashed', 'fitted with', 'represented', 'located in', 'shot in', 'are', 'was', 'drawn upon', 'is', 'is', 'released to', 'produced', 'made in', 'were', 'became', 'was', 'became', 'reserved for', 'are', 'were', 'became', 'was', 'became', 'reserved for', 'are', 'is', 'featured in', 'is', 'mentioned', 'going', \"'s\", 'had', 'creeped', 'photographed with', 'is', 'trying', 'gives', 'wanted', 'was', 'seemed', 'released on', 'reported', 'was', 'wrote', 'start', 'is', 'defined', 'mirrored in', 'noirs', 'was', 'is', 'developed', 'was', 'series', 'centers on', 'parodied', 'wear', 'come in', 'is', 'focus on', 'considered', 'obscured by', 'rarity in', 'seen', 'boulevard', 'appear in', 'are', 'composed by', 'was', 'comes', 'made in', 'according to', 'specified as', 'used', 'seems', 'was', 'was', 'is', 'supported by', 'founding', 'grew into', 'included', 'became', 'started in', 'honor', 'are', 'is', 'include', 'is', 'attracts', 'is', 'working', 'celebrates', 'portrays', 'lyon', 'cast in', 'done at', 'production', 'applied for', 'enhanced', 'handled', 'scanned by', 'released on', 'released on', 'planned', 'working', 'celebrates', 'portrays', 'lyon', 'cast in', 'done at', 'production', 'applied for', 'enhanced', 'handled', 'scanned by', 'released on', 'released on', 'planned', 'ran', 'extended', 'form', 'is', 'include', 'be', 'perform', 'have', 'compared to', 'seen as', 'are', 'called', 'given by', 'featured', 'starred in', 'are', 'is', 'has', 'gets', 'stops', 'do', 'get', \"'s\", 'are', 'shoot for', 'make', 'makes', 'criticized by', 'is', 'double', 'made of', 'are', 'have', 'were', 'listed', 'manufactured', 'is', 'manufactured', 'produced', 'produced as', 'is', 'known by', 'manufactured', 'announced', 'is', 'harmonized with', 'continue', 'determined by', 'apply to', 'called', 'polarized', 'designed', 'values of', 'is', 'are', 'are', 'require', 'are', 'have', 'are', 'are', 'reach', 'made with', 'is', 'showcased', 'was', 'released', 'was', 'scanned into', 'modeled', 'starts by', 'are', 'is', 'made with', 'is', 'showcased', 'was', 'released', 'was', 'scanned into', 'modeled', 'starts by', 'are', 'is', 'consists of', 'is at', 'exposed before', 'are', 'have', 'are', 'dropping', 'boris', 'based on', 'confirmed', 'drafted', 'hired', 'worked', 'created', 'schwarzenegger', 'filmed', 'was', 'released on', 'released on', 'be', 'confirmed', 'drafted', 'hired', 'worked', 'created', 'schwarzenegger', 'filmed', 'was', 'released on', 'released on', 'be', 'maintained as', 'focus with', 'are', 'reach', 'was', 'believed', 'remade', 'until', 'produced in', 'responded by', 'released in', 'called', 'bradford', 'were', 'filmed', 'produced', 'was', 'killed', 'made into', 'used', 'kiss', 'are', 'wore', 'is', 'is', 'cosby', 'series', 'fared', 'portrayed in', 'include', 'in', 'features', 'killed', 'discontinued from', 'includes', 'play', 'developed', 'was', 'utilised', 'viewed', 'is', 'was', 'required', 'become', 'some like', 'specify', 'have', 'is', 'was', 'need', 'need', 'need', 'known as', 'was', 'drama', 'play', 'developed', 'was', 'utilised', 'viewed', 'is', 'was', 'required', 'become', 'some like', 'specify', 'have', 'is', 'was', 'need', 'need', 'need', 'known as', 'was', 'drama', 'rediscovered', 'was', 'combust', 'is', 'introduced in', 'rediscovered', 'restored', 'recovered', 'shown on', 'size', 'have', 'varies according', 'introduced', 'were', 'introduced in', 'introduced in', 'taken', 'introduced in', 'produces', 'rebranded', 'was', 'announced', 'supplanted by', 'features', 'features', 'is', 'is', 'attended', 'dropped', 'starred in', 'brothers', 'given', 'received', 'was', 'was', 'produced by', 'was', 'shikshanachya', 'was', 'became', 'hosted', 'ka on', 'hosted', 'replaced', 'is', 'is', 'is', 'decided', 'has', 'wished', 'resides in', 'started', 'declared', 'refused', 'got', 'is', 'is', 'attended', 'dropped', 'starred in', 'brothers', 'given', 'received', 'was', 'was', 'produced by', 'was', 'shikshanachya', 'was', 'became', 'hosted', 'ka on', 'hosted', 'replaced', 'is', 'is', 'is', 'decided', 'has', 'wished', 'resides in', 'started', 'declared', 'refused', 'got', 'worked', 'composed', 'was', 'began in', 'pleads', 'frustrated with', 'backfires', 'backfires', 'gangs up', 'cast opposite', 'began in', 'released', 'lagali', 'is', 'composed by', 'done by', 'penned by', 'opened in', 'renamed to', 'spaces', 'announced in', 'given', 'presented for', 'rewritten with', 'titled', 'released on', 'focused on', 'manages', 'returns to', 'know', 'leaves for', 'forced', 'decided', 'released on', 'released on', 'attached with', 'speaks', 'enjoyed', 'developed for', 'launched on', 'scheduled', 'wanted', 'were', 'settled for', 'released in', 'made', 'sold for', 'reported', 'released on', 'is', 'is without', 'became', 'was', 'was', 'narrated by', 'composed by', 'brought', 'repel', 'selected', 'designed', 'released in', 'was', 'soundtrack for', 'is', 'mohanan', 'composed by', 'falls for', 'develops', 'is', 'was', 'premiered', 'were', 'was', 'shorts', 'was', 'was', 'released in', 'experience', 'butler', 'held at', 'shown', 'is', 'is', 'was', 'are', 'used', 'is', 'was', 'was', 'released', 'employed', 'lead to', 'converted to', 'been', 'used with', 'is', 'is', 'contains', 'use', 'act as', 'marketed', 'is', 'is', 'destroys', 'lose', 'have', 'has', 'was', 'different to', 'signed', 'signed', 'was', 'is', 'make', 'intended', 'said', 'has', 'is', 'was', \"'s up\", 'were', \"'s\", \"'s\", 'speak for', 'pattinson vs.', 'obsessed', 'poulter', 'is', 'leaves', 'unlock', 'merges with', 'hired', 'brought', 'cast as', 'was', 'occurred in', 'composed by', 'released on', 'watch', 'remains', 'continues', 'voted', 'received', 'renamed', 'd’oro', 'awarded to', 'based on', 'we by', 'provided', 'interpreted as', 'compared to', 'goes to', 'liked', 'refused', 'filmed in', 'composed by', 'opened to', 'win in', 'adapted', 'celebrated in', 'included', 'charting', 'provided', 'interpreted as', 'compared to', 'goes to', 'liked', 'refused', 'filmed in', 'composed by', 'opened to', 'win in', 'adapted', 'celebrated in', 'included', 'charting', 'titled after', 'began in', 'approached by', 'falls', 'languished for', 'set', 'planned', 'began on', 'banned from', 'went through', 'is like', 'is', 'scheduled', 'drawn', 'murdered by', 'forget', 'need', 'released on', 'is', 'is', 'stars', 'go', 'escape into', 'bring', 'be', 'employed', 'contributed', 'credited', 'premiered on', 'seen on', 'is', 'road', 'foe', 'barnard', 'logan', 'love', 'is', 'planning', 'used as', 'was', 'had', 'taken of', 'has', 'helped', 'released', 'released', 'received', 'is', 'is', 'confirmed through', 'concluded', 'swears', 'gains', 'rescues', 'appears as', 'with', 'cast as', 'served as', 'was', 'modeled', 'delivered', 'worked on', 'animated', 'delivered', 'delivered', 'served as', 'built on', 'is', 'released for', 'is', 'wrote', 'filled with', 'reported', 'emmerich', 'had', 'announced', 'is', 'influenced by', 'had', 'restored', 'was', 'produced under', 'proved', 'was', 'released on', 'released on', 'portrayed', 'think', 'is behind', 'is', 'influenced by', 'had', 'restored', 'was', 'produced under', 'proved', 'was', 'released on', 'released on', 'portrayed', 'think', 'is behind', 'produced by', 'is', 'wrapped', 'postponed to', 'composed by', 'included', 'segmented by', 'encompasses', 'was', 'became', 'was', 'is', 'directed by', 'emphasized', 'identified as', 'qayamat', 'been', 'starred in', 'include', 'acclaimed', 't. v.', 'appeared at', 'kannathil', 'included in', 'appeared in', 'recognised', 'include', 'done in', 'feature', 'motivated by', 'are', 'is', 'produced', 'produced', 'include', 'begins with', 'produced', 'were', 'located in', 'worked during', 'include', 'began', 'produced', 'was', 'was', 'include', 'are', 'rao', 'contributed to', 'kathe', 'produced in', 'celebrated as', 'based in', 'include', 'sathyan', 'credited as', 'considered', 'sathyan', 'started in', 'was', 'nagpur', 'operates in', 'came from', 'made', 'made', 'shot in', 'is', 'debuted in', 'is', 'was', 'became', 'narsing', 'made', 'are', 'was', 'is', 'include', 'segmented by', 'encompasses', 'was', 'became', 'was', 'is', 'directed by', 'emphasized', 'identified as', 'qayamat', 'been', 'starred in', 'include', 'acclaimed', 't. v.', 'appeared at', 'kannathil', 'included in', 'appeared in', 'recognised', 'include', 'done in', 'feature', 'motivated by', 'are', 'is', 'produced', 'produced', 'include', 'begins with', 'produced', 'were', 'located in', 'worked during', 'include', 'began', 'produced', 'was', 'was', 'include', 'are', 'rao', 'contributed to', 'kathe', 'produced in', 'celebrated as', 'based in', 'include', 'sathyan', 'credited as', 'considered', 'sathyan', 'started in', 'was', 'nagpur', 'operates in', 'came from', 'made', 'made', 'shot in', 'is', 'debuted in', 'is', 'was', 'became', 'narsing', 'made', 'are', 'was', 'is', 'include', 'are', 'company', 'based in', 'was', 'owned', 'was', 'spread across', 'produces', 'considered', 'tend', 'is', 'is', 'been', 'is', 'opened', 'released in', 'was', 'written by', 'loves', 'referred to', 'ran', 'birth of', 'owned by', 'is', 'named', 'read', 'left', 'were', 'is', 'referred to', 'was', 'switched', 'become', 'edited by', 'was', 'highlighted', 'attempting', 'is', 'kills', 'drugs', 'leaves', 'made', 'was', 'produced by', 'written by', 'provided by', 'composed by', 'released on', 'is', 'did', 'reprising', 'edited by', 'was', 'highlighted', 'attempting', 'is', 'kills', 'drugs', 'leaves', 'made', 'was', 'produced by', 'written by', 'provided by', 'composed by', 'released on', 'is', 'did', 'reprising', 'associated with', 'include', 'distinguishes', 'is', 'cross into', 'are', 'associated with', 'considered', 'seen with', 'replaced', 'hired as', 'included', 'existed as', 'continued', 'went', 'launched', 'was from', 'were', 'include', 'is', 'is', 'brought', 'became', 'founded by', 'move', 'reviewed by', 'is', 'was', 'become', 'were', 'kapoor', 'made', 'were', 'song', 're', 'combined in', 'tended', 'succeed', 'starred', 'written by', 'written in', 'is', 'are', 'introduced with', 'include', 'include', 'adds to', 'believed', 'used', 'developed in', 'introduced in', 'understand', 'followed in', 'include', 'are', 'appreciated in', 'was', 'are', 'covered in', 'permitted', 'filmed in', 'been', 'screened', 'been', 'was', 'appreciated in', 'known', 'is', 'are', 'want', 'respect', 'plagiarised', 'is', 'was', 'become', 'were', 'kapoor', 'made', 'were', 'song', 're', 'combined in', 'tended', 'succeed', 'starred', 'written by', 'written in', 'is', 'are', 'introduced with', 'include', 'include', 'adds to', 'believed', 'used', 'developed in', 'introduced in', 'understand', 'followed in', 'include', 'are', 'appreciated in', 'was', 'are', 'covered in', 'permitted', 'filmed in', 'been', 'screened', 'been', 'was', 'appreciated in', 'known', 'is', 'are', 'want', 'respect', 'plagiarised', 'is', 'shot in', 'commercialized since', 'dropped with', 'adopted by', 'referred to', 'was', 'defines', 'rated', 'is', 'called', 'exposed at', 'used for', 'is', 'specifies', 'is', 'founded by', 'bought', 'released', 'were', 'are', 'starred in', 'was', 'was', 'goetz', 'struggled', 'involved in', 'changing', 'raise', 'completed', 'includes', 'founded by', 'bought', 'released', 'were', 'are', 'starred in', 'was', 'was', 'goetz', 'struggled', 'involved in', 'changing', 'raise', 'completed', 'includes', 'is', 'introduced in', 'exist', 'focus on', 'is', 'have', 'include', 'make', 'make', 'is', 'measures', 'awarded', 'consisted of', 'awarded', 'resisted', 'adapted as', 'produced as', 'rejected by', 'resisted', 'adapted as', 'produced as', 'rejected by', 'directed', 'produced', 'known for', 'is', 'directed', 'produced', 'known for', 'is', 'was', 'replaced', 'developed with', 'produced', 'done', 'are', 'displayed by', 'is', 'stars', 'are', 'used in', 'be', 'is', 'is', 'specified with', 'edited', 'used for', 'become', 'is in', 'is', 'embroiled in', 'involved with', 'stood', 'impressed', 'went', 'liked', 'was', 'was', 'one of', 'started', 'turned', 'provided', 'plot', 'used', 'has', 'developed', 'were', 'was', 'were', 'resigned in', 'are', 'ranked', 'sued', 'is', 'released in', 'set', 'released by', 'created by', 'set in', 'referenced in', 'given', 'announced', 'were', 'circle', 'bros', 'released in', 'set', 'released by', 'created by', 'set in', 'referenced in', 'given', 'announced', 'were', 'circle', 'bros', 'attack', 'restored', 'wakes', 'stars', 'earn', 'was', 'are', 'maintained', \"'s\", 'have', 'married', 'stars', 'earn', 'was', 'are', 'maintained', \"'s\", 'have', 'married', 'are', 'stars', 'needs', 'completed in', 'is', 'is', 'has', 'made in', 'was', 'eliminated', 'samsa', 'was', 'used on', 'include', 'are', 'were on', 'is', 'ceased', 'designed by', 'make', 'written by', 'served as', 'began on', 'calls', 'had', 'sung by', 'summed', 'makes for', 'apologised for', 'was', 'stars', 'set', 'released on', 'is', 'edited by', 'inspired', 'become', 'was', 'marketed', 'wanted', 'trap', 'targeted', 'films', 'become', 'create', 'alluded to', 'draw', 'became', 'is', 'included', 'continued into', 'waned', 'are', 'series', 'scorsese', 'won', 'called', 'include', 'give', 'gives', 'include', 'went', 'version', 'was', \"'m\", 'sponsored', \"'s\", 'wanted', 'compressed into', 'are', 'was', 'have', 'have', 'aired to', 'is', 'is', 'is', 'reported', 'create', \"'s\", 'want', 'feel', 'fell', 'prepared', 'known as', 'finished in', 'gandhi in', 'tells of', 'changes', 'revolves', 'is', 'comes', 'released on', 'funded by', 'pursue', 'pull', 'prepares', 'lewis of', 'returned to', 'received', 'is', 'killed in', 'were by', 'x', \"'s\", 'discontinued from', 'includes', 'is', 'raju', 'began', 'established', 'helped', 'partner', 'work', 'adopted', 'was', 'co', 'frozen by', 'formed in', 'sold', 'been', 'uses', 'was', '‡—includes', 'began', 'established', 'helped', 'partner', 'work', 'adopted', 'was', 'co', 'frozen by', 'formed in', 'sold', 'been', 'uses', 'was', '‡—includes', 'considered', 'starred in', 'see', 'was', 'become', 'directed by', 'appeared in', 'has', 'has', 'starred in', 'see', 'was', 'become', 'directed by', 'appeared in', 'has', 'has', 'renamed', 'called', 'compete for', 'distributors', 'composed of', 'dedicated to', 'is', 'is', 'was', 'had', 'merged', 'were', 'were', 'included', 'was', 'released', 'are', 'is', 'are', 'include', 'popularized', 'is', 'be', 'improved as', 'become', 'continue', 'was', 'is', 'planned', 'had', 'likes', 'points', 'was', 'reversed', 'set with', 'accompanies', 'enhanced', 'remains', 'appears', 'praised', 'predisposed against', 'established in', 'is', 'written by', 'provides', 'was', 'gives', 'is', 'released in', 'stars as', 'began', 'released in', 'is', 'ramya', 'released on', 'put', 'give', 'stars as', 'began', 'released in', 'is', 'ramya', 'released on', 'put', 'give', 'is', 'written by', 'directed by', 'directed by', 'disturb', 'mistaken with', 'spawned', 'is', 'is', 'is', 'contains', 'founded in', 'are', 'funded through', 'is', 'include', 'choreographed by', 'composed by', 'written by', 'is', 'chen', 'is', 'shot during', 'used in', 'credited', 'is', 'was', 'received', 'is', 'composed by', 'set in', 'are', 'becomes', 'expecting', 'is', 'used in', 'paid', 'heals', 'depends upon', 'is', 'includes', 'improved', 'tends', 'renew', 'completed until', 'entered into', 'was', 'received', 'is', 'stops', 'are', 'is', 'narrated by', 'at', \"'s\", 'are', 'is', 'think', 'began', 'had', 'dismissed', 'wrote', 'resigned as', 'released on', 'nominated for', 'logan as', 'released on', 'hidden throughout', 'is', 'released on', 'simulated', 'released on', 'nominated for', 'released to', 'injured by', 'suspected', 'gave', 'gave', 'have', 'hired for', 'served as', 'would', 'auditioned for', 'auditioned for', 'started', 'wanted', 'delayed', 'used as', 'used as', 'shot at', 'ended on', 'was on', 'released on', 'released in', \"'s\", \"'s\", 'include', 'are', 'saying', 'are', 'announced', 'stars', 'said', 'was', 'have', 'form', 'break', 'rock', 'opened to', 'grossed', 'applaud', 'amalgamates', 'has', 'works', 'is', 'written by', 'condoled for', 'shortened to', 'is', 'contains', 'was', 'coming', 'had', 'shortened to', 'is', 'contains', 'was', 'coming', 'had', 'grossed', 'investigates', 'have', 'forsaken', 'be about', 'began in', 'involved', 'included', 'flipped', 'featured in', 'led', 'dressed in', 'were', 'gave', 'was', 'inspired by', 'contains', 'multiplexes in', 'released on', 'said', 'fassbender as', 'was', 'mentioned', 'sequel to', 'replaced by', 'associated with', 'include', 'offered', 'produced', 'censorship', 'included', 'were', 'was', 'used', 'became', 'is', \"'s\", 'was', 'is', 'claw', 'features', 'focus on', 'are', 'bay of', 'were', 'were', 'found', 'director', 'grown to', 'saw', 'reunited', 'became', 'released', 'sold', 'h20', 'intended', 'is', 'released on', 'chung', 'arrange', 'turns', 'succeeded in', 'been', 'discontinued from', 'includes', 'is', '-', 'reported', 'recruited', 'includes', 'dies during', 'adds', 'ejected from', 'concluded in', 'features', 'features', 'based on', 'released on', 'used in', 'released for', 'sold', 'occurred in', 'opened', 'forecast', 'deemed', 'movie', 'is', 'known for', 'was', 'vigathakumaran', 'made by', 'were', 'prem', 'sprang', 'made', 'include', 'aided by', 'had', 'won', 'was', 'started with', 'characterised by', 'acclaimed', 'produced', 'is', 'went', 'led by', 'were', 'sang for', 'were', 'were', 'are', 'started in', 'was', 'is', 'known for', 'was', 'vigathakumaran', 'made by', 'were', 'prem', 'sprang', 'made', 'include', 'aided by', 'had', 'won', 'was', 'started with', 'characterised by', 'acclaimed', 'produced', 'is', 'went', 'led by', 'were', 'sang for', 'were', 'were', 'are', 'started in', 'was', 'is', 'klug', 'shut', 'built in', 'screened as', 'tied', 'were', 'ended', 'came', 'documented', 'were', 'called', 'remade by', 'made in', 'was', 'was', 'selected', 'included in', 'was', 'is', 'klug', 'shut', 'built in', 'screened as', 'tied', 'were', 'ended', 'came', 'documented', 'were', 'called', 'remade by', 'made in', 'was', 'was', 'selected', 'included in', 'was', 'called', 'is', 'survive', 'followed', 'is', 'influenced by', 'directed', 'directed', 'public', 'became', 'are', 'sounds', 'represented by', 'have', 'are', 'going', 'revealed', 'going', 'revealed', 'was', 'continued', 'was', 'opened', 'produced in', 'restricted', 'include', 'adopted', 'returned to', 'was', 'is', 'make', 'was', 'was', 'become', 'made for', 'is', 'made', 'are', 'was', 'has', 'include', 'was', 'continued', 'was', 'opened', 'produced in', 'restricted', 'include', 'adopted', 'returned to', 'was', 'is', 'make', 'was', 'was', 'become', 'made for', 'is', 'made', 'are', 'was', 'has', 'include', 'discontinued from', 'includes', 'stars', 'doe', 'converge', 'attached', 'regretted', 'did', 'continued', 'took', 'reads', 'inspired', 'is', 'is by', 'is', 'is', 'is', 'held', 'remains', 'leave', 'called', 'asked', 'zuri about', 'arrive', 'refuses', 'were', 'surrounded by', 'concluded on', 'released', 'was', 'was', 'were', 'felt', 'was', 'were', 'scheduled', 'composed by', 'connected', 'started', 'include', 'arrives by', 'wounded in', 'call', 'established in', 'has', 'has', 'produces', 'is', 'entered into', 'saw', 'discussed for', 'opted', 'was', 'contends with', 'fights', 'broke', 'released on', 'packaged in', 'was', 'became', 'signed', 'expected', 'set', 'kraven', 'are', 'stretch', 'be', 'is', 'told', 'agreed', 'giving', 'looks', 'gets', 'tells', 'goes to', 'ends with', 'depict', \"'s\", \"'s\", 'are', 'named', 'been', 'improved over', 'are', 'used', 'is', 'is', 'absorb', 'used for', 'mother', 'ends in', 'ended', 'explain', 'realise', 'needed', 'screened at', 'wanted', 'mother', 'insist', 'adds', 'mother', 'ends in', 'ended', 'explain', 'realise', 'needed', 'screened at', 'wanted', 'mother', 'insist', 'adds', 'came', 'operated', 'tortures', 'set to', 'ended', 'combined into', 'stops', 'distributed', 'commented on', 'disputed by', 'liked', 'invest in', 'has', 'created in', 'is', 'operate', 'hallen', 'begins', 'directed', 'set', 'released on', 'shows', 'had', 'is', 'jeffery', 'is', 'is', 'be', 'car', 'is', 'stars', 'sends', 'cast between', 'renamed from', 'of', 'loves', \"'s\", 'is', '-', 'include', 'decried', \"'s\", \"'s\", 'replaced', 'took', 'composed', 'was', 'came', 'came', 'star in', 'announced', 'stopped', 'works for', 'titled as', 'titled as', 'is', 'is', 'released on', 'made for', 'gone', 'lacking', 'released in', 'was among', 'released in', 'was among', 'is', 'was', 'be', 'pulls', 'modified', 'committed in', 'said', 'want', 'mix of', 'occupied by', 'was', 'paul', 'houses', 'closed', 'ranked', 'ranked', 'based on', 'released in', 'composed by', 'adds to', 'is through', 'released on', 'consists of', 'released on', 'is', 'directed', 'is', 'wrote', 'was', 'won', 'raja', 'bombed at', 'received', 'is', 'directed', 'is', 'wrote', 'was', 'won', 'raja', 'bombed at', 'received', 'invented', 'are', 'continue after', 'created from', 'was', 'turned into', 'are', 'simplified', 'based on', 'received', 'is', 'are', 'made from', 'adapted', 'inspired', 'is', 'sami', 'version of', 'was', 'became', 'have', 'started as', 'attended', 'use', 'are', 'is', 'have', 'were', 'presented at', 'continued on', 'competition', 'fallen', 'were', 'were', 'were', 'were', 'cost', 'had', 'debuted', 'produced', 'korea', 'left', 'gave', 'quit', 'lost', 'released in', 'ruled on', 'achieved by', 'produced in', 'is', 'become', 'journey to', 'turns', 'composed by', 'include', 'holds', 'opened', 'witnessed in', 'hassenger of', 'revealed in', 'directed by', 'won', 'is', 'materialize because', 'composed', 'delivered', 'film', 'was', 'was like', 'is', 'was', 'goes', 'start', 'begin', 'is', 'ramona', 'distributed', 'noted that', \"'s\", 'premiered', 'was', 'seen', 'is', 'returned in', 'released on', 'is', 'composed by', 'won', 'hyderabad', 'directed', 'cast as', 'wrote', 'wanted', 'was', 'parodied by', 'is', 'composed by', 'won', 'hyderabad', 'directed', 'cast as', 'wrote', 'wanted', 'was', 'parodied by', 'is', 'strikes', 'bound for', 'told', 'was', 'became', 'wrote', 'went through', 'done', 'announced for', 'was', 'built', 'going', 'required', 'called', 'called', 'fear', 'compared to', \"'s\", 'regarded as', 'loved', 'video', 'responded by', 'was', 'considered', 'are', 'award for', 'continued to', 'is', 'deduces', 'calls', 'hailed as', 'cast as', 'sandberg', 'sivana', 'provided by', 'absorbed into', 'stated', 'hired', 'was in', 'reads', 'is', 'said', 'stars', 'is', 'spend', 'completed in', 'altered', 'is', 'stuhlbarg', 'shot on', 'filmed at', 'been', 'ran', 'acquired', 'negotiated by', 'expanded from', 'was', 'gets over', 'married', 'released on', 'is in', 'lands in', 'find', 'plays', 'plays', 'got', 'avenger', 'began on', 'think', 'leaked on', 'included', 'was', 'was', 'is', 'is', 'is', 'becomes', 'is', 'included', 'been', 'reported on', 'cast as', 'were', 'think of', 'see', 'set in', 'put in', 'set', 'hired', 'done in', 'contain', 'is', 'blanchett', 'witnesses', 'comes to', 'hesitates', 'needed', 'materialized', 'collaborated on', 'remained', 'decided', 'acquired', 'was in', \"'s\", 'used', 'filmmaking', 'seem like', 'expanded to', 'received', 'awarded', 'won', 'dedicated to', 'goes', 'cries for', 'offers', \"'re\", 'commences', 'says', 'picked', 'began on', 'was', \"'s\", 'produced in', 'is', 'attempts', 'jailed', 'suggests', 'decides', 'forgives', 'take', 'knock', 'edited', 'changed', 'do', 'know', 'pitched', 'wrote', 'praised', 'is', 'are', 'has', 'became', 'offered in', 'was', 'offered', 'made', 'developed during', 'began', 'offered', 'darkened by', 'is', 'is', 'generated from', 'mammootty', 'briefed by', 'encounters with', 'came', 'was', 'replaced', 'used', 'require', 'added to', 'took', 'consists of', 'seals', 'runs', 'demands', \"'s\", \"'s\", 'want', 'is', 'presents', 'played', 'portrays', 'portrays', 'turned', 'had', 'have', 'introduced as', \"'s like\", '', 'going', 'was', 'mind', 'approved', 'worked on', 'paced', 'struggling', 'borrows', 'used in', 'turned to', 'was', 'see', 'ordered', 'runs', 'was', 'added to', 'sold', 'adapted by', 'are', 'take', 'be', 'is', 'rose', 'saved', 'wanted', \"'s\", 'shrunken by', 'shot', 'stated', 'were', 'were', 'damn', 'was', 'caught', 'intended', 'going', 'want', 'going', 'explained', 'went', 'took', 'cut for', 'himmerik', 'led to', 'credited', \"'s\", \"'m\", 'was', 'were', 'come', 'named', 'praised', 'see', 'were', 'had', 'took', 'hired', 'appears as', 'remained', 'cast', 'cast', 'debs', 'provided by', 'is', 'become', 'displays', 'is', 'promises', 'begins', 'is', 'planned for', 'was', 'lent', 'include', 'have', 'referred to', 'include', 'include', 'showing', 'is', 'stars travis', 'inspired by', 'attacked in', 'released on', '', 'attended', 'looks', 'leave', 'was', 'rishta', 'is', 'earned', 'shot in', 'managed', 'has', 'was', 'played', 'shot', 'brought', 'gave', 'praised', \"'s like\", 'handles', 'considered', 'pais of', 'creates', 'aseem', 'was', 'was', 'portrayed', 'ahmed of', 'was', 'was', 'occurred across', 'set by', 'lost', '', 'attended', 'looks', 'leave', 'was', 'rishta', 'is', 'earned', 'shot in', 'managed', 'has', 'was', 'played', 'shot', 'brought', 'gave', 'praised', \"'s like\", 'handles', 'considered', 'pais of', 'creates', 'aseem', 'was', 'was', 'portrayed', 'ahmed of', 'was', 'was', 'occurred across', 'set by', 'lost', 'is', 'stars', 'are', 'tend', 'cite', 'were', 'sorrows of', 'is', 'were', 'classic', 'consider', 'released', 'demands', 'orders', 'mobilize', 'desaturated', 'were', 'worked with', 'agreed to', 'grossed', 'divided on', 'reads', 'used', 'were', 'condemned', 'includes', 'cast', 'joined', 'called', 'is', 'is', 'used in', 'used in', 'is', 'mode', 'leafs', 'serve in', 'made by', 'is', 'shown in', 'awakens', 'sews', 'went to', 'released on', 'released on', 'is', 'nikita', 'ruin', 'says', 'written by', 'suspects', 'hits', 'brought', 'rewrote', 'spent on', 'received', 'was on', 'completed at', 'included', 'was', 'gave', 'nominated for', 'is', 'shot in', 'won', 'composed by', 'produced by', 'thillanayagam', 'selected', 'penned by', 'is', 'iório', 'entered into', 'is', 'produced by', 'is', 'is', 'serves', 'serves', 'fails at', 'revealed', 'suffering from', 'released on', 'completed', 'was out', 'is', 'is', 'screened without', 'traveler', 'was', 'built in', 'take', 'cost', 'constructed', 'made', 'approved by', 'choreographed by', 'gorshenin', 'shot in', 'developed for', 'was', 'logan', 'logan', 'passes', 'appear as', 'appear as', \"'m\", 'let', 'used', 'composed by', 'composed by', 'met with', \"'s\", 'is', 'love', 'feels like', 'need', 'is', 'projected', 'were in', 'released in', 'proceed', 'changed from', 'excised', 'included in', 'auditioned for', 'turned', 'auditioned for', 'moved to', 'completed on', 'provided', 'opened', 'became', 'known as', 'is', 'preservationists', 'are', 'shown', 'follow', 'vary in', 'governed by', 'is', 'is', 'was', 'composed by', 'penned by', 'released by', 'published by', 'is', 'is', 'include', 'became', 'is', 'include', 'became', 'is', 'known as', 'apply to', 'is', 'be', 'shows', 'entered into', 'entered into', 'be', 'allows', 'number', 'became', 'remains', 'written', 'had', 'said', 'was', 'destroyed by', 'closed', 'born', 'made', 'entered into', 'released', 'stepped', 'began', 'dominated by', 'shown in', 'shown on', 'involved in', 'held in', 'was', 'béguines', 'opened in', 'intended', 'features', 'honored', 'entering', 'considered', 'lady by', 'says', 'demanded', 'are', 'lead', 'refuse', 'written', 'had', 'said', 'was', 'destroyed by', 'closed', 'born', 'made', 'entered into', 'released', 'stepped', 'began', 'dominated by', 'shown in', 'shown on', 'involved in', 'held in', 'was', 'béguines', 'opened in', 'intended', 'features', 'honored', 'entering', 'considered', 'lady by', 'says', 'demanded', 'are', 'lead', 'refuse', 'was', 'became', 'is', 'wounded by', 'oki', 'went', 'extended', 'oversaw', 'limited to', 'do', 'noted', 'purchased', 'become', 'shows', 'include', 'is', 'was', 'was', 'held in', 'is', 'released on', 'mean', 'shown at', 'was', 'considered', 'raised in', 'taught', 'talk', 'lose', 'was', 'ended in', 'was', 'loved', 'was', 'considered', 'raised in', 'taught', 'talk', 'lose', 'was', 'ended in', 'was', 'loved', 'is', 'created', 'help', 'is', 'turned', 'set for', 'have', 'taken with', 'was', 'arrived via', 'agreed', 'is', 'is', 'lived in', 'was', 'went', 'month in', 'was', 'seem as', 'received', 'went', 'gathered', 'thought', 'play', 'began in', 'began in', 'selected to', 'have', 'live in', 'lived in', 'was', 'went', 'month in', 'was', 'seem as', 'received', 'went', 'gathered', 'thought', 'play', 'began in', 'began in', 'selected to', 'have', 'live in', 'scheduled', 'shown with', 'is', 'are', 'have', 'was', 'aged', 'accompanied by', 'are', 'is', 'replaced by', 'is', 'compelled', 'denoted by', 'divided into', 'are', 'have', 'was', 'aged', 'accompanied by', 'are', 'is', 'replaced by', 'is', 'compelled', 'denoted by', 'divided into', 'cast in', 'scheduled', 'expressed', 'joined', 'expected', 'serve as', 'is', 'composed by', 'headed by', 'received', 'is', 'pearce', 'moves', 'is', 'has', 'released in', 'was', 'released', 'was', 'be', 'written by', 'suna', 'made in', 'was', 'is', 'has', 'released in', 'was', 'released', 'was', 'be', 'written by', 'suna', 'made in', 'was', 'is', 'were', 'are', 'include', 'is', 'castillo of', 'installed by', 'employed to', 'frosted', 'create', 'considered', 'are', 'vary from', 'used in', 'is', 'relate to', 'is', 'produced by', 'opened to', 'are', 'dating', 'brendan', 'left', 'becomes', 'get', 'was', 'goes to', 'shake', 'released', 'scored', 'is', 'is', 'tries', 'was', 'suited', 'shown in', 'shot in', 'was', 'scored by', 'is', 'is', 'shot in', 'developed', 'helped', 'shot on', 'consists of', 'is', 'gave', 'hold', 'stalled', 'is', 'received', 'done by', 'patented in', 'named after', 'judged', 'be', 'welles', 'created', 'used on', 'consists of', 'stars', 'refuses', 'murdered by', 'plays over', 'released on', 'released in', 'released in', 'posed', 'filmed', 'were', 'lost', 'contained', 'enforced until', 'were', 'promises', 'enjoyed', 'wrote', 'does', 'cut', 'become', 'view', 'beffe', 'am', 'banned in', 'rated', 'vraie', 'guerilla', 'shown in', 'directed by', 'are', 'are', 'come', 'mentions', 'grown', 'released on', 'commented', 'is', 'did', 'done by', 'released on', 'arrives', 'producers', 'died in', 'performed by', 'pressured by', 'questioned', 'lobbied', 'been', 'cast as', 'was', 'erupted through', 'used', 'budget', 'gems', 'are', 'allowed', 'collected in', 'sold', 'turn', 'is', 'hold', 'called', 'wants', 'producers', 'rejected', 'released on', 'dave', 'attempts', 'was', 'was', 'became', 'was', 'based at', 'were', 'is', 'means', 'means', 'was', 'been', 'achieved with', 'was', 'included', 'part', 'received', 'responded', 'are', 'remains', 'was', 'was', 'became', 'was', 'based at', 'were', 'is', 'means', 'means', 'was', 'been', 'achieved with', 'was', 'included', 'part', 'received', 'responded', 'are', 'remains', 'travels to', 'dewey', 'evades', 'thwarts', 'go from', \"'s\", 'released in', 'had', 'ended', 'was', 'began by', 'composed by', 'released on', 'tend', 'handled by', 'arrested', 'sentenced to', 'leaves', 'shopping in', 'hugs', 'consists of', 'received', 'seems', 'was', 'is', 'presented in', 'presented in', 'flees to', 'opened', 'called', 'written', 'shot on', 'listed', 'produced in', 'experimented with', 'were', 'imax', 'colorized', 'introduced', 'introduced in', 'met with', 'was', 'known as', 'is for', 'provide', 'is', 'is', 'is', 'is', 'vary', 'leaps around', 'is', 'shot on', 'listed', 'produced in', 'experimented with', 'were', 'imax', 'colorized', 'introduced', 'introduced in', 'met with', 'was', 'known as', 'is for', 'provide', 'is', 'is', 'is', 'is', 'vary', 'leaps around', 'is', 'present', 'held in', 'include', 'developed in', 'fabricated', 'was', 'announced as', 'dali', 'ruled', 'speculated', 'announced as', 'announced as', 'dali', 'ruled', 'speculated', 'announced as', 'discovers', 'is', 'is', 'been', 'took', 'gave', 'changed', 'was', 'was', 'was out', '’s', 'breaks', 'cremated in', 'assumes', 'agreed', 'produced on', 'premiered in', 'won', 'released on', 'released on', 'received', 'opened to', 'selected for', 'was', 'shot at', 'marketed by', 'wrote', 'is', 'become', 'was', 'presented with', 'appears', 'live', 'gel', 'opened to', 'selected for', 'was', 'shot at', 'marketed by', 'wrote', 'is', 'become', 'was', 'presented with', 'appears', 'live', 'gel', 'was', 'shot on', 'consists of', 'being', 'donated', 'reached', 'removed from', 'books', 'leaves', 'is', 'seems', 'love', 'love', 'made', 'books', 'leaves', 'is', 'seems', 'love', 'love', 'made', 'is', 'is', 'created in', 'is by', 'journalists', 'used', 'provided by', 'features', 'interviewed for', 'had', 'received', 'mr', 'been', 'appeal', 'is', 'composed by', 'attacked by', 'speaks', 'produced by', 'chosen as', 'are', 'known by', 'selected', 'be', 'lacked', 'calls', 'released on', 'screened at', 'premiered at', 'released in', 'refuted by', 'sold', 'sold', 'crossed', \"'s\", 'is', 'is', 'for', 'captured by', 'is', 'called', 'stands for', 'was', 'is', 'composed by', 'attacked by', 'speaks', 'produced by', 'chosen as', 'are', 'known by', 'selected', 'be', 'lacked', 'calls', 'released on', 'screened at', 'premiered at', 'released in', 'refuted by', 'sold', 'sold', 'crossed', \"'s\", 'is', 'is', 'for', 'captured by', 'is', 'called', 'stands for', 'was', 'is', 'starred', 'is', 'composed by', 'have', 'distributed by', 'used as', 'was', 'paid', 'said', 'return in', 'joined', 'revealed', 'include', 'brought', 'released on', 'released', 'includes', 'criticized', 'gill', 'is', 'was', 'in', 'year', 'planned', 'issued in', 'included', 'issued in', 'was', 'detract from', 'released on', 'released on', 'chosen', 'is', 'espinosa', 'jumps', 'observed by', 'reads', 'has', \"'s\", 'are', 'do', 'turned', 'hoped for', 'was', \"'s like\", 'cracked', 'liked', 'wearing', 'stated on', 'intended', 'trying', 'ended on', 'going', 'be', 'mandates', 'have', 'films', 'affected by', 'was', 'exhibitors', 'were', 'was', 'echoed', 'be', 'got', 'released', 'composed by', 'stumbles across', 'was', 'wish', 'become', 'released', 'is', 'defined by', 'released', 'won', 'acclaimed', 'center around', 'featured', 'was', 'released', 'is', 'directed by', 'directed by', 'remade by', 'means', 'released', 'screened at', 'cinematographers', 'is', 'is', 'directed by', 'directed by', 'remade by', 'means', 'released', 'screened at', 'cinematographers', 'is', 'directed by', 'produced', 'stars', 'discontinued from', 'includes', 'met with', 'chad', 'co', 'released on', 'set', 'turns', \"'s\", 'happening to', 'starts', 'released on', 'is', 'written', 'was', 'released on', 'seeking', 'met with', 'chad', 'co', 'released on', 'set', 'turns', \"'s\", 'happening to', 'starts', 'released on', 'is', 'written', 'was', 'released on', 'seeking', 'is', 'talks to', 'found', 'decide', 'flees to', 'becomes', 'sneak into', 'is', 'written by', 'opened', 'fell', 'is', 'are', 'founded in', 'is', 'received', 'grossed', 'go', 'is', 'was', 'hired', 'released on', 'became', 'considered', 'wearing', 'met with', 'distributed by', 'distributed under', 'produced by', 'is', 'was', 'produce alongside', 'released on', 'met with', 'received', 'released on', 'scheduled', 'found by', 'began on', 'composed', 'composed by', 'use', 'used during', 'dodging', 'developed', 'emerge', 'use', 'used during', 'dodging', 'developed', 'emerge', 'is', 'parodies', 'released on', 'arrive in', 'sneak', 'have', 'was', 'appear on', 'featured in', 'distributes', 'produced', 'influenced', 'released in', 'returns to', 'kills', 'leave', 'operates on', 'permitted', 'cast as', 'considered for', 'recognized', 'caught', 'tangled with', 'stuck', 'knows', 'was', 'made', 'housed', 'included', 'decision', 'is', 'uses', 'motion', 'chosen by', 'terrestrial', 'shown', 'is', 'were', 'been', 'been', 'are', 'influenced', 'released in', 'returns to', 'kills', 'leave', 'operates on', 'permitted', 'cast as', 'considered for', 'recognized', 'caught', 'tangled with', 'stuck', 'knows', 'was', 'made', 'housed', 'included', 'decision', 'is', 'uses', 'motion', 'chosen by', 'terrestrial', 'shown', 'is', 'were', 'been', 'been', 'are', 'was', 'is', 'bribed by', 'was', 'watched', 'seem', 'doing', 'produced by', 'change', 'was', 'auditioned for', 'employed in', 'composed by', 'is', 'is', 'was', 'was', 'performed', 'released on', 'want', 'sent', 'love', 'did', 'send', 'holden', 'agrees', 'creates', 'are', 'responded', 'started with', 'are', 'become', 'employed in', 'features on', 'collected by', 'released on', 'pressed by', 'escapes', 'discovers', 'tolmach', 'said of', 'jonah', 'invite', 'revealed', 'coleman', 'vanderbilt', 'wanted', 'explained', 'was', 'are', 'signing on', \"'s\", 'had', 'reported', 'replaced', 'was', 'reported', 'scored', 'described', 'helped', 'came from', 'included', 'included', 'included', 'hosted', 'funded by', 'discovered', 'was', 'is', 'ranked', 'is', 'comes', 'dude', 'is', 'running', 'has', 'magic of', 'held from', 'claimed', 'announced on', 'is', 'is', 're', 'requires', 'supported by', 'stars', 'made with', 'lobbied for', 'include', 'need', 'directs', 'named', 'considered', 'named', 'considered', 'is', 'rounds', 'recovered', 'hugs', 'wrapped', 'composed by', 'grossed', 'racked by', 'are', 'marked', 'wanted', 'completed on', 'responded', 'gave', 'includes', 'was', 'garbo by']\n"
     ]
    },
    {
     "name": "stderr",
     "output_type": "stream",
     "text": [
      "\n"
     ]
    }
   ],
   "source": [
    "predicates = [get_predicate(i) for i in tqdm(candidate_sentences['sentence'])]\n",
    "print(predicates)"
   ]
  },
  {
   "cell_type": "code",
   "execution_count": 34,
   "metadata": {},
   "outputs": [
    {
     "name": "stdout",
     "output_type": "stream",
     "text": [
      "is               401\n",
      "was              334\n",
      "are              103\n",
      "released on       92\n",
      "were              82\n",
      "include           80\n",
      "released          41\n",
      "became            40\n",
      "'s                37\n",
      "composed by       35\n",
      "have              33\n",
      "become            32\n",
      "has               31\n",
      "released in       28\n",
      "been              27\n",
      "included          26\n",
      "received          26\n",
      "had               26\n",
      "made              24\n",
      "be                22\n",
      "considered        22\n",
      "produced          21\n",
      "called            20\n",
      "used              18\n",
      "directed by       17\n",
      "written by        17\n",
      "scheduled         17\n",
      "stars             16\n",
      "includes          15\n",
      "went              14\n",
      "hired             14\n",
      "wrote             14\n",
      "produced by       13\n",
      "introduced in     13\n",
      "wanted            12\n",
      "won               12\n",
      "sold              12\n",
      "cast as           11\n",
      "began in          11\n",
      "began             11\n",
      "set               11\n",
      "gave              10\n",
      "shot in           10\n",
      "reported          10\n",
      "features          10\n",
      "going              9\n",
      "need               9\n",
      "produced in        9\n",
      "opened             9\n",
      "used in            9\n",
      "dtype: int64\n"
     ]
    }
   ],
   "source": [
    "print(pd.Series(predicates).value_counts()[:50])"
   ]
  }
 ],
 "metadata": {
  "interpreter": {
   "hash": "bb4fef60f296f93a8ec6319dea54485bf4114687655fde6a45c6620a5a91fb42"
  },
  "kernelspec": {
   "display_name": "Python 3.9.12 64-bit (windows store)",
   "language": "python",
   "name": "python3"
  },
  "language_info": {
   "codemirror_mode": {
    "name": "ipython",
    "version": 3
   },
   "file_extension": ".py",
   "mimetype": "text/x-python",
   "name": "python",
   "nbconvert_exporter": "python",
   "pygments_lexer": "ipython3",
   "version": "3.9.12"
  },
  "orig_nbformat": 4
 },
 "nbformat": 4,
 "nbformat_minor": 2
}
