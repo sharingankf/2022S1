{
 "cells": [
  {
   "cell_type": "markdown",
   "metadata": {
    "id": "S9pWsPAt0dCh"
   },
   "source": [
    "# Assignment 2 - Find complex answers to medical questions\n",
    "\n",
    "**Submission deadline: Friday 22 April, 5pm.** \n",
    "\n",
    "Late submissions **will not be accepted** without an approved [Special Consideration](http://from.mq.edu.au/MT0X0E0FUrrU200rm0JB0U0) request.  Assessments submitted after the due date will receive a mark of **zero**.\n",
    "\n",
    "**Assessment marks: 20 marks (20% of the total unit assessment)**\n",
    "\n",
    "In this assignment we will work on a task of \"query-focused summarisation\" on medical questions where the goal is, given a medical question and a list of sentences extracted from relevant medical publications, to determine which of these sentences from the list can be used as part of the answer to the question.\n",
    "\n",
    "We will use data that has been derived from the **BioASQ challenge** (http://www.bioasq.org/), after some data manipulation to make it easier to process for this assignment. The BioASQ challenge organises several \"shared tasks\", including a task on biomedical semantic question answering which we are using here. The data are in the file `bioasq10_labelled.csv`, which is part of the zip file provided. Each row of the file has a question, a sentence text, and a label that indicates whether the sentence text is part of the answer to the question (1) or not (0).\n",
    "\n",
    "The following code uses pandas to store the file `bioasq10_labelled.csv` in a data frame and show the first rows of data. For this code to run, first you need to unzip the file `data.zip`:"
   ]
  },
  {
   "cell_type": "code",
   "execution_count": 3,
   "metadata": {},
   "outputs": [
    {
     "name": "stderr",
     "output_type": "stream",
     "text": [
      "'unzip' is not recognized as an internal or external command,\n",
      "operable program or batch file.\n"
     ]
    }
   ],
   "source": [
    "!unzip data.zip"
   ]
  },
  {
   "cell_type": "code",
   "execution_count": 69,
   "metadata": {},
   "outputs": [],
   "source": [
    "import pandas as pd\n",
    "dataset = pd.read_csv(\"bioasq10b_labelled.csv\")"
   ]
  },
  {
   "cell_type": "markdown",
   "metadata": {},
   "source": [
    "The columns of the CSV file are:\n",
    "\n",
    "* `qid`: an ID for a question. Several rows may have the same question ID, as we can see above.\n",
    "* `sentid`: an ID for a sentence.\n",
    "* `question`: The text of the question. In the above example, the first rows all have the same question: \"Is Hirschsprung disease a mendelian or a multifactorial disorder?\"\n",
    "* `sentence text`: The text of the sentence.\n",
    "* `label`: 1 if the sentence is a part of the answer, 0 if the sentence is not part of the answer."
   ]
  },
  {
   "cell_type": "markdown",
   "metadata": {
    "id": "m6xqxCmR0dCk"
   },
   "source": [
    "# Task 1 (5 marks): Data preparation\n",
    "\n",
    "Partition the data into the training, dev_test, and test sets using the proportions 6:2:2. That is, 60% of the questions must be in the training set, 20% must be in the dev_test set, and the remaining 20% in the test set. Make sure that you partition based on the questions, not on the rows. With this we mean that all the sentences related to a question must be in one file only. In other words, there must not be sentences from the same question in, say, the training and the test data.\n",
    "\n",
    "Also, make sure that you implement a random partition.\n",
    "\n",
    "Save the partitions as the files `training.csv`, `dev_test.csv`, and `test.csv`, so that they can be used by other people.\n",
    "\n",
    "The breakdown of marks is as follows:\n",
    "\n",
    "* **1 mark** if your explanation answers the following question correctly: Why do we want to split the partition on the questions, and not on the rows?\n",
    "* **1 mark** if the code partitions the data on the questions randomly and according to the split 6:2:2.\n",
    "* **1 mark** if your code generates partitions that have similar balance of labels and you demonstrate that they are similar.\n",
    "* **1 mark** if the partitions are saved as the CSV files `training.csv`, `dev_test.csv`, and `test.csv`.\n",
    "* **1 mark** for good coding and documentation in this task.\n"
   ]
  },
  {
   "cell_type": "code",
   "execution_count": 87,
   "metadata": {
    "id": "fhqUtqJL0dCm"
   },
   "outputs": [],
   "source": [
    "import random\n",
    "random.seed(1234)"
   ]
  },
  {
   "cell_type": "markdown",
   "metadata": {},
   "source": [
    "# Question 1\n",
    "\n",
    "The reason why we split the partition on the questions not on rows because every rows has different sentense text with same questions, so, it is better that group by those questions and split it."
   ]
  },
  {
   "cell_type": "code",
   "execution_count": 88,
   "metadata": {},
   "outputs": [
    {
     "name": "stdout",
     "output_type": "stream",
     "text": [
      "[0, 1, 2, 3, 4]\n"
     ]
    }
   ],
   "source": [
    "# A list base on question\n",
    "question = list(set(dataset['qid']))\n",
    "print(question[:5])"
   ]
  },
  {
   "cell_type": "code",
   "execution_count": 89,
   "metadata": {},
   "outputs": [
    {
     "name": "stdout",
     "output_type": "stream",
     "text": [
      "[3143, 20, 3400, 1327, 1798]\n"
     ]
    }
   ],
   "source": [
    "# Shuffling the list\n",
    "random.shuffle(question)\n",
    "print(question[:5])"
   ]
  },
  {
   "cell_type": "code",
   "execution_count": 90,
   "metadata": {},
   "outputs": [],
   "source": [
    "# Proportions of 6:2:2, 60% for training, 20% for dev_test and 20% for test\n",
    "sixty = int(len(question)*.6)\n",
    "twenty = int(len(question)*.8)\n",
    "training_quesiton = question[:sixty]\n",
    "devtest_question = question[sixty:twenty]\n",
    "test_question = question[twenty:]"
   ]
  },
  {
   "cell_type": "code",
   "execution_count": 91,
   "metadata": {},
   "outputs": [],
   "source": [
    "# Iterate through each row of the pandas data frame, save it in csv files\n",
    "training_set = []\n",
    "for d in training_quesiton:\n",
    "    document_data = dataset[dataset['qid'] == d]\n",
    "    training_set += list(document_data.itertuples(index=False, name=None))\n",
    "\n",
    "import csv\n",
    "\n",
    "fields = ['qid', 'sentid', 'question', 'sentence text', 'label'] \n",
    "with open('training.csv','w',encoding=\"utf-8\") as f:\n",
    "    w = csv.writer(f)\n",
    "    w.writerow(fields)\n",
    "    w.writerows(training_set)\n"
   ]
  },
  {
   "cell_type": "code",
   "execution_count": 92,
   "metadata": {},
   "outputs": [],
   "source": [
    "devtest_set = []\n",
    "for d in devtest_question:\n",
    "    document_data = dataset[dataset['qid'] == d]\n",
    "    devtest_set += list(document_data.itertuples(index=False, name=None))\n",
    "\n",
    "\n",
    "fields = ['qid', 'sentid', 'question', 'sentence text', 'label'] \n",
    "with open('dev_test.csv','w',encoding=\"utf-8\") as f:\n",
    "    w = csv.writer(f)\n",
    "    w.writerow(fields)\n",
    "    w.writerows(devtest_set)\n"
   ]
  },
  {
   "cell_type": "code",
   "execution_count": 93,
   "metadata": {},
   "outputs": [],
   "source": [
    "test_set = []\n",
    "for d in test_question:\n",
    "    document_data = dataset[dataset['qid'] == d]\n",
    "    test_set += list(document_data.itertuples(index=False, name=None))\n",
    "\n",
    "\n",
    "fields = ['qid', 'sentid', 'question', 'sentence text', 'label'] \n",
    "with open('test.csv','w',encoding=\"utf-8\") as f:\n",
    "    w = csv.writer(f)\n",
    "    w.writerow(fields)\n",
    "    w.writerows(test_set)\n"
   ]
  },
  {
   "cell_type": "markdown",
   "metadata": {
    "id": "xbUJWlD_0dCv"
   },
   "source": [
    "# Task 2 (5 marks): Cosine similarity\n",
    "\n",
    "Use the files `training.csv`, `dev_test.csv`, and `test.csv` provided by us in the file `data.zip` (so that any possible errors that you may have introduced in task 1 do not propagate to this task and following tasks).\n",
    "\n",
    "Implement a simple text summariser that is based on the cosine similarity between the question and the text. Use the following function signature.\n",
    "\n",
    "```{python}\n",
    "def cosine_summariser(csvfile, questionids, n=5):\n",
    "   \"\"\"Return the IDs of the n sentences that have the highest cosine similarity\n",
    "    with the question. The input questionids is a list of question ids. The \n",
    "    output is a list of lists of sentence ids\n",
    "    >>> cosine_summariser('test.csv', [3, 11], 3)\n",
    "    [[3, 1, 4], [12, 4, 13]]\"\"\"\n",
    "\n",
    "```\n",
    "\n",
    "To obtain the text vectors, use sklearn's tf.idf libraries this way:\n",
    "\n",
    "* Use all the defaults from the TfidfVectorizer instance, except for `stop_words=\"english\"` and `max_features=10000`. The latter option will restrict the vocabulary size to 10,000. This will speed up the computations and reduce the memory footprint in the subsequent tasks.\n",
    "* Use the `fit` method on the text of `training.csv`. In your documentation, please explain and justify what decision choices you made to select the correct text: would you use the question text only, the sentence text, or both?\n",
    "\n",
    "Evaluate the summariser by reporting the mean F1 score on each of the three CSV files `training.csv`, `devtest.csv`, and `test.csv`, for $n=5$. To calculate the mean F1 score, do this:\n",
    "\n",
    "1. For each question ID in the file, calculate the F1 score by comparing the result of your cosine summariser and the given labels. Feel free to use sklearn's functions to compute the F1 score, or implement your own version of the F1 scoring function if you prefer.\n",
    "2. Calculate the mean of the F1 scores calculated in step 1.\n",
    "\n",
    "Find the value of $n$ that returns the highest mean F1 score on the dev_test data.\n",
    "\n",
    "The breakdown of marks is as follows:\n",
    "\n",
    "* **1 mark** if the code generates the tf.idf vectors correctly. The explanations that justify the decisions made are reasonable. In particular, explain and justify what information you used to fit tf.idf.\n",
    "* **1 mark** if the code calculates cosine similarity correctly.\n",
    "* **1 mark** if the code returns the IDs of the $n$ sentences that have the highest cosine similarity with the question.\n",
    "* **1 mark** if the notebook reports the F1 scores of the dev_test file and identifies the value of $n$ that gives the highest score on the dev_test file.\n",
    "* **1 mark** for good coding and documentation in this task. In particular, comment on the reason why you think the value of $n$ that gives highest F1 has that value."
   ]
  },
  {
   "cell_type": "code",
   "execution_count": 40,
   "metadata": {
    "colab": {
     "base_uri": "https://localhost:8080/",
     "height": 206
    },
    "id": "UAr6x5Zc0dCw",
    "outputId": "7fa58ee8-d420-47ce-e925-c37950857924"
   },
   "outputs": [],
   "source": [
    "# Write your code and answers here. Feel free to add more code and markdown cells.\n",
    "import numpy as np\n",
    "import pandas as pd\n",
    "from nltk.corpus import stopwords\n",
    "from sklearn.feature_extraction.text import TfidfVectorizer\n",
    "from sklearn.naive_bayes import MultinomialNB\n",
    "from sklearn.metrics import f1_score\n",
    "training = pd.read_csv(\"training.csv\")\n",
    "test = pd.read_csv(\"test.csv\")\n",
    "dev_test = pd.read_csv(\"dev_test.csv\")"
   ]
  },
  {
   "cell_type": "code",
   "execution_count": 67,
   "metadata": {},
   "outputs": [
    {
     "data": {
      "text/plain": [
       "[(1,\n",
       "  0,\n",
       "  'List signaling molecules (ligands) that interact with the receptor EGFR?',\n",
       "  'the epidermal growth factor receptor (EGFR) ligands, such as epidermal growth factor (EGF) and amphiregulin (AREG)',\n",
       "  1),\n",
       " (1,\n",
       "  1,\n",
       "  'List signaling molecules (ligands) that interact with the receptor EGFR?',\n",
       "  ' EGFR ligands epidermal growth factor (EGF), amphiregulin (AREG) and transforming growth factor alpha (TGFα)',\n",
       "  1)]"
      ]
     },
     "execution_count": 67,
     "metadata": {},
     "output_type": "execute_result"
    }
   ],
   "source": [
    "training_set = []\n",
    "\n",
    "training_set += list(training.itertuples(index=False, name=None))\n",
    "training_set[:2]"
   ]
  },
  {
   "cell_type": "markdown",
   "metadata": {
    "id": "9VTTgRnN0dC4"
   },
   "source": [
    "# Task 3 (5 marks): Simple NN\n",
    "\n",
    "Use the files `training.csv`, `dev_test.csv`, and `test.csv` provided by us.\n",
    "\n",
    "Implement a simple TensorFlow-Keras neural model that has the following sequence of layers:\n",
    "\n",
    "1. An input layer that will accept the tf.idf of the sentence text (we will ignore the question text in this task). Use the TfidfVectorizer instance that you have fitted in task 2.\n",
    "2. A hidden layer and a relu activation function. You need to determine the size of the hidden layer.\n",
    "3. An output layer with one cell. The output layer will classify the input text (binary classification).\n",
    "\n",
    "Train the model with the training data and use the dev_test set to determine a good size of the hidden layer. \n",
    "\n",
    "With the model that you have trained, and implement a summariser that returns the $n$ sentences with highest predicted score. Use the following function signature:\n",
    "\n",
    "```{python}\n",
    "def nn_summariser(csvfile, questionids, n=5):\n",
    "   \"\"\"Return the IDs of the n sentences that have the highest predicted score. The input questionids is a list of question ids. The \n",
    "    output is a list of lists of sentence ids\n",
    "    >>> cosine_summariser('test.csv', [3, 11], 3)\n",
    "    [[2, 1, 3], [7, 14, 10]]\"\"\"\n",
    "\n",
    "```\n",
    "\n",
    "Report the final results using the test set. Remember: use the test set to report the final results of the best system only.\n",
    "\n",
    "Based on your experiments, comment on whether this system is better than the system developed in task 2. To make this task less time-consuming, focus only on $n=5$.\n",
    "\n",
    "The breakdown of marks is as follows:\n",
    "\n",
    "* **1 mark** if the NN model has the correct layers, the correct activation functions, and the correct loss function.\n",
    "* **1 mark** if the code passes the tf.idf information of the text to the model correctly.\n",
    "* **1 mark** if the code returns the IDs of the $n$ sentences that have the highest prediction score in the given question.\n",
    "* **1 mark** if the notebook reports the F1 scores of the test sets and comments on the results.\n",
    "* **1 mark** for good coding and documentation in this task. In particular, the code and results must include evidence that shows your choice of best size of the hidden layer. The explanations must be clear and concise. To make this task less time-consuming, use $n=5$."
   ]
  },
  {
   "cell_type": "code",
   "execution_count": 5,
   "metadata": {
    "id": "uY6sDbUn0dC6"
   },
   "outputs": [],
   "source": [
    "# Write your code and answers here. Feel free to add more code and markdown cells."
   ]
  },
  {
   "cell_type": "code",
   "execution_count": 95,
   "metadata": {},
   "outputs": [
    {
     "data": {
      "text/plain": [
       "[]"
      ]
     },
     "execution_count": 95,
     "metadata": {},
     "output_type": "execute_result"
    }
   ],
   "source": [
    "import tensorflow as tf\n",
    "tf.config.list_physical_devices('GPU')\n"
   ]
  },
  {
   "cell_type": "code",
   "execution_count": 96,
   "metadata": {},
   "outputs": [
    {
     "data": {
      "text/plain": [
       "[(1,), (0,), (1,)]"
      ]
     },
     "execution_count": 96,
     "metadata": {},
     "output_type": "execute_result"
    }
   ],
   "source": [
    "tfidf = TfidfVectorizer(input='contents', max_features=10000)\n",
    "training_tfidf = tfidf.fit_transform([r[3] for r in training_set]).toarray()\n",
    "training_labels = [r[4:5] for r in training_set]\n",
    "training_labels[:3]"
   ]
  },
  {
   "cell_type": "code",
   "execution_count": 97,
   "metadata": {},
   "outputs": [
    {
     "data": {
      "text/plain": [
       "array([[0., 0., 0., ..., 0., 0., 0.],\n",
       "       [0., 0., 0., ..., 0., 0., 0.],\n",
       "       [0., 0., 0., ..., 0., 0., 0.],\n",
       "       ...,\n",
       "       [0., 0., 0., ..., 0., 0., 0.],\n",
       "       [0., 0., 0., ..., 0., 0., 0.],\n",
       "       [0., 0., 0., ..., 0., 0., 0.]])"
      ]
     },
     "execution_count": 97,
     "metadata": {},
     "output_type": "execute_result"
    }
   ],
   "source": [
    "training_tfidf"
   ]
  },
  {
   "cell_type": "code",
   "execution_count": 98,
   "metadata": {},
   "outputs": [],
   "source": [
    "devtest_tfidf = tfidf.transform([r[3] for r in devtest_set]).toarray()\n",
    "devtest_labels = [r[4:5] for r in devtest_set]"
   ]
  },
  {
   "cell_type": "code",
   "execution_count": 100,
   "metadata": {},
   "outputs": [
    {
     "name": "stdout",
     "output_type": "stream",
     "text": [
      "Model: \"sequential_1\"\n",
      "_________________________________________________________________\n",
      " Layer (type)                Output Shape              Param #   \n",
      "=================================================================\n",
      " dense_1 (Dense)             (None, 3)                 30003     \n",
      "                                                                 \n",
      "=================================================================\n",
      "Total params: 30,003\n",
      "Trainable params: 30,003\n",
      "Non-trainable params: 0\n",
      "_________________________________________________________________\n"
     ]
    }
   ],
   "source": [
    "from keras import models, layers\n",
    "\n",
    "simple_nn = models.Sequential()\n",
    "simple_nn.add(layers.Dense(3, activation='relu', input_shape=(len(tfidf.get_feature_names()),)))\n",
    "simple_nn.summary()"
   ]
  },
  {
   "cell_type": "code",
   "execution_count": 101,
   "metadata": {},
   "outputs": [],
   "source": [
    "simple_nn.compile(optimizer='rmsprop',\n",
    "                  loss='binary_crossentropy',\n",
    "                  metrics=['accuracy'])"
   ]
  },
  {
   "cell_type": "code",
   "execution_count": 102,
   "metadata": {},
   "outputs": [
    {
     "name": "stdout",
     "output_type": "stream",
     "text": [
      "Epoch 1/70\n",
      "1186/1186 [==============================] - 5s 2ms/step - loss: 0.6547 - accuracy: 0.3678 - val_loss: 0.6013 - val_accuracy: 0.3251\n",
      "Epoch 2/70\n",
      "1186/1186 [==============================] - 2s 1ms/step - loss: 0.5726 - accuracy: 0.3287 - val_loss: 0.6149 - val_accuracy: 0.3485\n",
      "Epoch 3/70\n",
      "1186/1186 [==============================] - 2s 1ms/step - loss: 0.5706 - accuracy: 0.3527 - val_loss: 0.6608 - val_accuracy: 0.3352\n",
      "Epoch 4/70\n",
      "1186/1186 [==============================] - 2s 1ms/step - loss: 0.5893 - accuracy: 0.3596 - val_loss: 0.7124 - val_accuracy: 0.3667\n",
      "Epoch 5/70\n",
      "1186/1186 [==============================] - 2s 1ms/step - loss: 0.6195 - accuracy: 0.3657 - val_loss: 0.7941 - val_accuracy: 0.4899\n",
      "Epoch 6/70\n",
      "1186/1186 [==============================] - 2s 1ms/step - loss: 0.6512 - accuracy: 0.3791 - val_loss: 0.8899 - val_accuracy: 0.4082\n",
      "Epoch 7/70\n",
      "1186/1186 [==============================] - 2s 1ms/step - loss: 0.7005 - accuracy: 0.3614 - val_loss: 0.9870 - val_accuracy: 0.2949\n",
      "Epoch 8/70\n",
      "1186/1186 [==============================] - 2s 1ms/step - loss: 0.7451 - accuracy: 0.4358 - val_loss: 1.0915 - val_accuracy: 0.4591\n",
      "Epoch 9/70\n",
      "1186/1186 [==============================] - 2s 1ms/step - loss: 0.7955 - accuracy: 0.4449 - val_loss: 1.1896 - val_accuracy: 0.3876\n",
      "Epoch 10/70\n",
      "1186/1186 [==============================] - 2s 1ms/step - loss: 0.8433 - accuracy: 0.4316 - val_loss: 1.2904 - val_accuracy: 0.3715\n",
      "Epoch 11/70\n",
      "1186/1186 [==============================] - 2s 2ms/step - loss: 0.8805 - accuracy: 0.4952 - val_loss: 1.3802 - val_accuracy: 0.4076\n",
      "Epoch 12/70\n",
      "1186/1186 [==============================] - 2s 1ms/step - loss: 0.9141 - accuracy: 0.4665 - val_loss: 1.4648 - val_accuracy: 0.3746\n",
      "Epoch 13/70\n",
      "1186/1186 [==============================] - 2s 1ms/step - loss: 0.9454 - accuracy: 0.4727 - val_loss: 1.5484 - val_accuracy: 0.3594\n",
      "Epoch 14/70\n",
      "1186/1186 [==============================] - 2s 1ms/step - loss: 0.9722 - accuracy: 0.5040 - val_loss: 1.6240 - val_accuracy: 0.3857\n",
      "Epoch 15/70\n",
      "1186/1186 [==============================] - 2s 1ms/step - loss: 0.9912 - accuracy: 0.4604 - val_loss: 1.6900 - val_accuracy: 0.3771\n",
      "Epoch 16/70\n",
      "1186/1186 [==============================] - 2s 1ms/step - loss: 1.0153 - accuracy: 0.5057 - val_loss: 1.7637 - val_accuracy: 0.3627\n",
      "Epoch 17/70\n",
      "1186/1186 [==============================] - 2s 1ms/step - loss: 1.0346 - accuracy: 0.5025 - val_loss: 1.8320 - val_accuracy: 0.4008\n",
      "Epoch 18/70\n",
      "1186/1186 [==============================] - 2s 1ms/step - loss: 1.0581 - accuracy: 0.5229 - val_loss: 1.9027 - val_accuracy: 0.4126\n",
      "Epoch 19/70\n",
      "1186/1186 [==============================] - 2s 1ms/step - loss: 1.0779 - accuracy: 0.5307 - val_loss: 1.9599 - val_accuracy: 0.4095\n",
      "Epoch 20/70\n",
      "1186/1186 [==============================] - 2s 1ms/step - loss: 1.0943 - accuracy: 0.5189 - val_loss: 2.0007 - val_accuracy: 0.4458\n",
      "Epoch 21/70\n",
      "1186/1186 [==============================] - 2s 1ms/step - loss: 1.1129 - accuracy: 0.5362 - val_loss: 2.0666 - val_accuracy: 0.4212\n",
      "Epoch 22/70\n",
      "1186/1186 [==============================] - 1s 1ms/step - loss: 1.1288 - accuracy: 0.5397 - val_loss: 2.0996 - val_accuracy: 0.4305\n",
      "Epoch 23/70\n",
      "1186/1186 [==============================] - 2s 1ms/step - loss: 1.1455 - accuracy: 0.5517 - val_loss: 2.1568 - val_accuracy: 0.4467\n",
      "Epoch 24/70\n",
      "1186/1186 [==============================] - 2s 1ms/step - loss: 1.1611 - accuracy: 0.5478 - val_loss: 2.2387 - val_accuracy: 0.3946\n",
      "Epoch 25/70\n",
      "1186/1186 [==============================] - 2s 2ms/step - loss: 1.1756 - accuracy: 0.5376 - val_loss: 2.2739 - val_accuracy: 0.4500\n",
      "Epoch 26/70\n",
      "1186/1186 [==============================] - 2s 1ms/step - loss: 1.1857 - accuracy: 0.5492 - val_loss: 2.3118 - val_accuracy: 0.3927\n",
      "Epoch 27/70\n",
      "1186/1186 [==============================] - 2s 2ms/step - loss: 1.1999 - accuracy: 0.5353 - val_loss: 2.3588 - val_accuracy: 0.3899\n",
      "Epoch 28/70\n",
      "1186/1186 [==============================] - 2s 1ms/step - loss: 1.2142 - accuracy: 0.5513 - val_loss: 2.4009 - val_accuracy: 0.4775\n",
      "Epoch 29/70\n",
      "1186/1186 [==============================] - 2s 1ms/step - loss: 1.2257 - accuracy: 0.5612 - val_loss: 2.4340 - val_accuracy: 0.4546\n",
      "Epoch 30/70\n",
      "1186/1186 [==============================] - 2s 1ms/step - loss: 1.2344 - accuracy: 0.5660 - val_loss: 2.4846 - val_accuracy: 0.3774\n",
      "Epoch 31/70\n",
      "1186/1186 [==============================] - 2s 1ms/step - loss: 1.2439 - accuracy: 0.5578 - val_loss: 2.5065 - val_accuracy: 0.4501\n",
      "Epoch 32/70\n",
      "1186/1186 [==============================] - 2s 1ms/step - loss: 1.2558 - accuracy: 0.5542 - val_loss: 2.5609 - val_accuracy: 0.3962\n",
      "Epoch 33/70\n",
      "1186/1186 [==============================] - 2s 1ms/step - loss: 1.2686 - accuracy: 0.5696 - val_loss: 2.5936 - val_accuracy: 0.4449\n",
      "Epoch 34/70\n",
      "1186/1186 [==============================] - 2s 1ms/step - loss: 1.2786 - accuracy: 0.5770 - val_loss: 2.6236 - val_accuracy: 0.4458\n",
      "Epoch 35/70\n",
      "1186/1186 [==============================] - 2s 1ms/step - loss: 1.2867 - accuracy: 0.5780 - val_loss: 2.6360 - val_accuracy: 0.4752\n",
      "Epoch 36/70\n",
      "1186/1186 [==============================] - 2s 1ms/step - loss: 1.2960 - accuracy: 0.5873 - val_loss: 2.6698 - val_accuracy: 0.4329\n",
      "Epoch 37/70\n",
      "1186/1186 [==============================] - 2s 1ms/step - loss: 1.3004 - accuracy: 0.5754 - val_loss: 2.7002 - val_accuracy: 0.4383\n",
      "Epoch 38/70\n",
      "1186/1186 [==============================] - 2s 1ms/step - loss: 1.3083 - accuracy: 0.5804 - val_loss: 2.7358 - val_accuracy: 0.3840\n",
      "Epoch 39/70\n",
      "1186/1186 [==============================] - 2s 1ms/step - loss: 1.3158 - accuracy: 0.5803 - val_loss: 2.7597 - val_accuracy: 0.4715\n",
      "Epoch 40/70\n",
      "1186/1186 [==============================] - 2s 1ms/step - loss: 1.3216 - accuracy: 0.5762 - val_loss: 2.7852 - val_accuracy: 0.4839\n",
      "Epoch 41/70\n",
      "1186/1186 [==============================] - 2s 1ms/step - loss: 1.3261 - accuracy: 0.5779 - val_loss: 2.8190 - val_accuracy: 0.4989\n",
      "Epoch 42/70\n",
      "1186/1186 [==============================] - 2s 1ms/step - loss: 1.3336 - accuracy: 0.5849 - val_loss: 2.8329 - val_accuracy: 0.4807\n",
      "Epoch 43/70\n",
      "1186/1186 [==============================] - 2s 1ms/step - loss: 1.3404 - accuracy: 0.5917 - val_loss: 2.8725 - val_accuracy: 0.4385\n",
      "Epoch 44/70\n",
      "1186/1186 [==============================] - 2s 1ms/step - loss: 1.3437 - accuracy: 0.5834 - val_loss: 2.8783 - val_accuracy: 0.4489\n",
      "Epoch 45/70\n",
      "1186/1186 [==============================] - 2s 1ms/step - loss: 1.3495 - accuracy: 0.5939 - val_loss: 2.9006 - val_accuracy: 0.4854\n",
      "Epoch 46/70\n",
      "1186/1186 [==============================] - 2s 1ms/step - loss: 1.3563 - accuracy: 0.6007 - val_loss: 2.9312 - val_accuracy: 0.4751\n",
      "Epoch 47/70\n",
      "1186/1186 [==============================] - 2s 1ms/step - loss: 1.3595 - accuracy: 0.5940 - val_loss: 2.9576 - val_accuracy: 0.4754\n",
      "Epoch 48/70\n",
      "1186/1186 [==============================] - 2s 1ms/step - loss: 1.3639 - accuracy: 0.5908 - val_loss: 2.9704 - val_accuracy: 0.4528\n",
      "Epoch 49/70\n",
      "1186/1186 [==============================] - 2s 1ms/step - loss: 1.3675 - accuracy: 0.5915 - val_loss: 2.9845 - val_accuracy: 0.4079\n",
      "Epoch 50/70\n",
      "1186/1186 [==============================] - 2s 1ms/step - loss: 1.3721 - accuracy: 0.6000 - val_loss: 3.0180 - val_accuracy: 0.4977\n",
      "Epoch 51/70\n",
      "1186/1186 [==============================] - 2s 1ms/step - loss: 1.3751 - accuracy: 0.6046 - val_loss: 3.0229 - val_accuracy: 0.4639\n",
      "Epoch 52/70\n",
      "1186/1186 [==============================] - 2s 1ms/step - loss: 1.3791 - accuracy: 0.5996 - val_loss: 3.0315 - val_accuracy: 0.4488\n",
      "Epoch 53/70\n",
      "1186/1186 [==============================] - 2s 1ms/step - loss: 1.3834 - accuracy: 0.6047 - val_loss: 3.0425 - val_accuracy: 0.5128\n",
      "Epoch 54/70\n",
      "1186/1186 [==============================] - 2s 1ms/step - loss: 1.3863 - accuracy: 0.6098 - val_loss: 3.0744 - val_accuracy: 0.4442\n",
      "Epoch 55/70\n",
      "1186/1186 [==============================] - 2s 1ms/step - loss: 1.3914 - accuracy: 0.6142 - val_loss: 3.0807 - val_accuracy: 0.4613\n",
      "Epoch 56/70\n",
      "1186/1186 [==============================] - 2s 1ms/step - loss: 1.3928 - accuracy: 0.6133 - val_loss: 3.0948 - val_accuracy: 0.4755\n",
      "Epoch 57/70\n",
      "1186/1186 [==============================] - 2s 1ms/step - loss: 1.3970 - accuracy: 0.6112 - val_loss: 3.1266 - val_accuracy: 0.4571\n",
      "Epoch 58/70\n",
      "1186/1186 [==============================] - 2s 1ms/step - loss: 1.4008 - accuracy: 0.6077 - val_loss: 3.1281 - val_accuracy: 0.4816\n",
      "Epoch 59/70\n",
      "1186/1186 [==============================] - 2s 1ms/step - loss: 1.4025 - accuracy: 0.6106 - val_loss: 3.1493 - val_accuracy: 0.4422\n",
      "Epoch 60/70\n",
      "1186/1186 [==============================] - 2s 1ms/step - loss: 1.4077 - accuracy: 0.6074 - val_loss: 3.1677 - val_accuracy: 0.4518\n",
      "Epoch 61/70\n",
      "1186/1186 [==============================] - 2s 1ms/step - loss: 1.4105 - accuracy: 0.6113 - val_loss: 3.1775 - val_accuracy: 0.4474\n",
      "Epoch 62/70\n",
      "1186/1186 [==============================] - 2s 1ms/step - loss: 1.4129 - accuracy: 0.6029 - val_loss: 3.1979 - val_accuracy: 0.4375\n",
      "Epoch 63/70\n",
      "1186/1186 [==============================] - 2s 1ms/step - loss: 1.4170 - accuracy: 0.6129 - val_loss: 3.1969 - val_accuracy: 0.4456\n",
      "Epoch 64/70\n",
      "1186/1186 [==============================] - 2s 1ms/step - loss: 1.4186 - accuracy: 0.6060 - val_loss: 3.2267 - val_accuracy: 0.5012\n",
      "Epoch 65/70\n",
      "1186/1186 [==============================] - 2s 1ms/step - loss: 1.4220 - accuracy: 0.6093 - val_loss: 3.2536 - val_accuracy: 0.4628\n",
      "Epoch 66/70\n",
      "1186/1186 [==============================] - 2s 1ms/step - loss: 1.4253 - accuracy: 0.6031 - val_loss: 3.2409 - val_accuracy: 0.4650\n",
      "Epoch 67/70\n",
      "1186/1186 [==============================] - 2s 1ms/step - loss: 1.4293 - accuracy: 0.6087 - val_loss: 3.2759 - val_accuracy: 0.4679\n",
      "Epoch 68/70\n",
      "1186/1186 [==============================] - 2s 1ms/step - loss: 1.4329 - accuracy: 0.6033 - val_loss: 3.2784 - val_accuracy: 0.4356\n",
      "Epoch 69/70\n",
      "1186/1186 [==============================] - 2s 1ms/step - loss: 1.4345 - accuracy: 0.6025 - val_loss: 3.2934 - val_accuracy: 0.4500\n",
      "Epoch 70/70\n",
      "1186/1186 [==============================] - 2s 1ms/step - loss: 1.4379 - accuracy: 0.6107 - val_loss: 3.3110 - val_accuracy: 0.4638\n"
     ]
    }
   ],
   "source": [
    "history=simple_nn.fit(training_tfidf,\n",
    "                      np.array(training_labels),\n",
    "                      epochs=70,\n",
    "                      batch_size=32,\n",
    "                      validation_data=(devtest_tfidf, np.array(devtest_labels)))"
   ]
  },
  {
   "cell_type": "code",
   "execution_count": 103,
   "metadata": {},
   "outputs": [
    {
     "data": {
      "image/png": "[encoded data removed]",
      "text/plain": [
       "<Figure size 432x288 with 1 Axes>"
      ]
     },
     "metadata": {
      "needs_background": "light"
     },
     "output_type": "display_data"
    }
   ],
   "source": [
    "import matplotlib.pyplot as plt\n",
    "\n",
    "loss = history.history['loss']\n",
    "val_loss = history.history['val_loss']\n",
    "\n",
    "epochs = range(1, len(loss) + 1)\n",
    "\n",
    "plt.plot(epochs, loss, 'bo', label='Training loss')\n",
    "plt.plot(epochs, val_loss, 'b', label='Validation loss')\n",
    "plt.title('Training and validation loss')\n",
    "plt.xlabel('Epochs')\n",
    "plt.ylabel('Loss')\n",
    "plt.legend()\n",
    "\n",
    "plt.show()"
   ]
  },
  {
   "cell_type": "markdown",
   "metadata": {
    "id": "k0NeK3gM0dC9"
   },
   "source": [
    "# Task 4 (5 marks): Recurrent NN\n",
    "\n",
    "Use the files `training.csv`, `dev_test.csv`, and `test.csv` provided by us.\n",
    "\n",
    "Implement a more complex neural network that is composed of the following layers:\n",
    "\n",
    "* An embedding layer that generates embedding vectors of the sentence text with 35 dimensions.\n",
    "* A LSTM layer. You need to determine the size of this LSTM layer, and the text length limit (if needed).\n",
    "* The final output layer with one cell for binary classification, as in task 3.\n",
    "\n",
    "Train the model with the training data, use the dev_test set to determine a good size of the LSTM layer and an appropriate length limit (if needed), and report the final results using the test set. Again, remember to use the test set only after you have determined the optimal parameters of the LSTM layer.\n",
    "\n",
    "Based on your experiments, comment on whether this system is better than the systems developed in the previous tasks.\n",
    "\n",
    "The breakdown of marks is as follows:\n",
    "\n",
    "* **1 mark** if the NN model has the correct layers, the correct activation functions, and the correct loss function.\n",
    "* **1 mark** if the code passes the sentence text to the model correctly. The documentation needs to explain what decisions had to be made to process long sentences. In particular, did you need to truncate the input text, and how did you determine the length limit?\n",
    "* **1 mark** if the code returns the IDs of the *n* sentences that have the highest prediction score in the given question.\n",
    "* **1 mark** if the notebook reports the F1 scores of the test sets and comments on the results.\n",
    "* **1 mark** for good coding and documentation in this task. In particular, the code and results must include evidence that shows your choice of best size of the LSTM layer. The explanations must be clear and concise. To make this task less time-consuming, use $n=5$."
   ]
  },
  {
   "cell_type": "code",
   "execution_count": 3,
   "metadata": {
    "id": "c8RRCWeQTrPl"
   },
   "outputs": [],
   "source": [
    "# Write your code and answers here. Feel free to add more code and markdown cells."
   ]
  },
  {
   "cell_type": "code",
   "execution_count": null,
   "metadata": {},
   "outputs": [],
   "source": [
    "from keras.preprocessing.text import Tokenizer\n",
    "from keras.preprocessing.sequence import pad_sequences"
   ]
  },
  {
   "cell_type": "code",
   "execution_count": 104,
   "metadata": {},
   "outputs": [
    {
     "data": {
      "text/plain": [
       "[66, 66, 66]"
      ]
     },
     "execution_count": 104,
     "metadata": {},
     "output_type": "execute_result"
    }
   ],
   "source": [
    "dev_test_lengths = [len(r[2]) for r in devtest_set]\n",
    "dev_test_lengths[:3]"
   ]
  },
  {
   "cell_type": "code",
   "execution_count": 105,
   "metadata": {},
   "outputs": [
    {
     "data": {
      "image/png": "[encoded data removed]",
      "text/plain": [
       "<Figure size 432x288 with 1 Axes>"
      ]
     },
     "metadata": {
      "needs_background": "light"
     },
     "output_type": "display_data"
    }
   ],
   "source": [
    "plt.hist(dev_test_lengths)\n",
    "plt.show()"
   ]
  },
  {
   "cell_type": "markdown",
   "metadata": {
    "id": "ppkBsuB_0dC9"
   },
   "source": [
    "# Submission of results\n",
    "\n",
    "Your submission should consist of this Jupyter notebook with all your code and explanations inserted into the notebook as text cells. **The notebook should contain the output of the runs. All code should run. Code with syntax errors or code without output will not be assessed.**\n",
    "\n",
    "**Do not submit multiple files. If you feel you need to submit multiple files, please contact Diego.Molla-Aliod@mq.edu.au first.**\n",
    "\n",
    "Examine the text cells of this notebook so that you can have an idea of how to format text for good visual impact. You can also read this useful [guide to the MarkDown notation](https://daringfireball.net/projects/markdown/syntax),  which explains the format of the text cells.\n",
    "\n",
    "Each task specifies a number of marks. The final mark of the assignment is the sum of all the marks of each individual task.\n",
    "\n",
    "By submitting this assignment you are acknowledging that this is your own work. Any submissions that break the code of academic honesty will be penalised as per [the academic integrity policy](https://policies.mq.edu.au/document/view.php?id=3).\n",
    "\n",
    "Late submissions **will not be accepted** without an approved [Special Consideration](http://from.mq.edu.au/MT0X0E0FUrrU200rm0JB0U0) request.  Assessments submitted after the due date will receive a mark of **zero**."
   ]
  }
 ],
 "metadata": {
  "accelerator": "GPU",
  "colab": {
   "name": "A2_solution.ipynb",
   "provenance": []
  },
  "interpreter": {
   "hash": "a7b63e7410c98f344f02082f10d790581d1dba1eeb1c8fe30f342f6109f0429e"
  },
  "kernelspec": {
   "display_name": "Python 3",
   "language": "python",
   "name": "python3"
  },
  "language_info": {
   "codemirror_mode": {
    "name": "ipython",
    "version": 3
   },
   "file_extension": ".py",
   "mimetype": "text/x-python",
   "name": "python",
   "nbconvert_exporter": "python",
   "pygments_lexer": "ipython3",
   "version": "3.9.12"
  }
 },
 "nbformat": 4,
 "nbformat_minor": 1
}
